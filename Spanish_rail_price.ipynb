{
  "nbformat": 4,
  "nbformat_minor": 0,
  "metadata": {
    "colab": {
      "name": "Spanish_rail_price.ipynb",
      "version": "0.3.2",
      "provenance": []
    },
    "kernelspec": {
      "name": "python3",
      "display_name": "Python 3"
    },
    "accelerator": "GPU"
  },
  "cells": [
    {
      "cell_type": "code",
      "metadata": {
        "id": "tYwnqlh6NiOY",
        "colab_type": "code",
        "colab": {
          "base_uri": "https://localhost:8080/",
          "height": 51
        },
        "outputId": "5c867714-461d-4d22-a9d4-f0758e5a753b"
      },
      "source": [
        "!unzip renfe.csv.zip"
      ],
      "execution_count": 1,
      "outputs": [
        {
          "output_type": "stream",
          "text": [
            "Archive:  renfe.csv.zip\n",
            "  inflating: renfe.csv               \n"
          ],
          "name": "stdout"
        }
      ]
    },
    {
      "cell_type": "code",
      "metadata": {
        "id": "dtVqt0tUsTra",
        "colab_type": "code",
        "colab": {}
      },
      "source": [
        "import pandas as pd\n",
        "import numpy as np\n",
        "import matplotlib.pyplot as plt"
      ],
      "execution_count": 0,
      "outputs": []
    },
    {
      "cell_type": "code",
      "metadata": {
        "id": "RZIvEyz6sbvS",
        "colab_type": "code",
        "colab": {
          "base_uri": "https://localhost:8080/",
          "height": 71
        },
        "outputId": "bc59f673-ae98-45ca-8fdc-630fafcc2efb"
      },
      "source": [
        " data = pd.read_csv(\"renfe.csv\",index_col=0)"
      ],
      "execution_count": 9,
      "outputs": [
        {
          "output_type": "stream",
          "text": [
            "/usr/local/lib/python3.6/dist-packages/numpy/lib/arraysetops.py:569: FutureWarning: elementwise comparison failed; returning scalar instead, but in the future will perform elementwise comparison\n",
            "  mask |= (ar1 == a)\n"
          ],
          "name": "stderr"
        }
      ]
    },
    {
      "cell_type": "code",
      "metadata": {
        "id": "VjHhOuTTsgcx",
        "colab_type": "code",
        "colab": {
          "base_uri": "https://localhost:8080/",
          "height": 34
        },
        "outputId": "7236ddb1-d8f2-4c35-99f1-92ba47df33c1"
      },
      "source": [
        "data.shape"
      ],
      "execution_count": 10,
      "outputs": [
        {
          "output_type": "execute_result",
          "data": {
            "text/plain": [
              "(2579771, 9)"
            ]
          },
          "metadata": {
            "tags": []
          },
          "execution_count": 10
        }
      ]
    },
    {
      "cell_type": "code",
      "metadata": {
        "id": "PrdeU6Y_siFD",
        "colab_type": "code",
        "colab": {
          "base_uri": "https://localhost:8080/",
          "height": 68
        },
        "outputId": "14ac4819-f0ae-4832-de64-c856b333eac9"
      },
      "source": [
        "data.columns"
      ],
      "execution_count": 11,
      "outputs": [
        {
          "output_type": "execute_result",
          "data": {
            "text/plain": [
              "Index(['insert_date', 'origin', 'destination', 'start_date', 'end_date',\n",
              "       'train_type', 'price', 'train_class', 'fare'],\n",
              "      dtype='object')"
            ]
          },
          "metadata": {
            "tags": []
          },
          "execution_count": 11
        }
      ]
    },
    {
      "cell_type": "code",
      "metadata": {
        "id": "bGm6uMt5skLS",
        "colab_type": "code",
        "colab": {
          "base_uri": "https://localhost:8080/",
          "height": 187
        },
        "outputId": "6146acac-0c8a-41d5-a596-60ed1007e91a"
      },
      "source": [
        "data.dtypes"
      ],
      "execution_count": 12,
      "outputs": [
        {
          "output_type": "execute_result",
          "data": {
            "text/plain": [
              "insert_date     object\n",
              "origin          object\n",
              "destination     object\n",
              "start_date      object\n",
              "end_date        object\n",
              "train_type      object\n",
              "price          float64\n",
              "train_class     object\n",
              "fare            object\n",
              "dtype: object"
            ]
          },
          "metadata": {
            "tags": []
          },
          "execution_count": 12
        }
      ]
    },
    {
      "cell_type": "code",
      "metadata": {
        "id": "QQP8zHWUsmDl",
        "colab_type": "code",
        "colab": {
          "base_uri": "https://localhost:8080/",
          "height": 359
        },
        "outputId": "29c96f1e-899f-486e-c55f-4641e3135f72"
      },
      "source": [
        "data[:10]"
      ],
      "execution_count": 17,
      "outputs": [
        {
          "output_type": "execute_result",
          "data": {
            "text/html": [
              "<div>\n",
              "<style scoped>\n",
              "    .dataframe tbody tr th:only-of-type {\n",
              "        vertical-align: middle;\n",
              "    }\n",
              "\n",
              "    .dataframe tbody tr th {\n",
              "        vertical-align: top;\n",
              "    }\n",
              "\n",
              "    .dataframe thead th {\n",
              "        text-align: right;\n",
              "    }\n",
              "</style>\n",
              "<table border=\"1\" class=\"dataframe\">\n",
              "  <thead>\n",
              "    <tr style=\"text-align: right;\">\n",
              "      <th></th>\n",
              "      <th>insert_date</th>\n",
              "      <th>origin</th>\n",
              "      <th>destination</th>\n",
              "      <th>start_date</th>\n",
              "      <th>end_date</th>\n",
              "      <th>train_type</th>\n",
              "      <th>price</th>\n",
              "      <th>train_class</th>\n",
              "      <th>fare</th>\n",
              "    </tr>\n",
              "  </thead>\n",
              "  <tbody>\n",
              "    <tr>\n",
              "      <th>0</th>\n",
              "      <td>2019-04-19 05:31:43</td>\n",
              "      <td>MADRID</td>\n",
              "      <td>SEVILLA</td>\n",
              "      <td>2019-05-29 06:20:00</td>\n",
              "      <td>2019-05-29 09:16:00</td>\n",
              "      <td>AV City</td>\n",
              "      <td>38.55</td>\n",
              "      <td>Turista</td>\n",
              "      <td>Promo</td>\n",
              "    </tr>\n",
              "    <tr>\n",
              "      <th>1</th>\n",
              "      <td>2019-04-19 05:31:43</td>\n",
              "      <td>MADRID</td>\n",
              "      <td>SEVILLA</td>\n",
              "      <td>2019-05-29 07:00:00</td>\n",
              "      <td>2019-05-29 09:32:00</td>\n",
              "      <td>AVE</td>\n",
              "      <td>53.40</td>\n",
              "      <td>Turista</td>\n",
              "      <td>Promo</td>\n",
              "    </tr>\n",
              "    <tr>\n",
              "      <th>2</th>\n",
              "      <td>2019-04-19 05:31:43</td>\n",
              "      <td>MADRID</td>\n",
              "      <td>SEVILLA</td>\n",
              "      <td>2019-05-29 07:30:00</td>\n",
              "      <td>2019-05-29 09:51:00</td>\n",
              "      <td>AVE</td>\n",
              "      <td>47.30</td>\n",
              "      <td>Turista</td>\n",
              "      <td>Promo</td>\n",
              "    </tr>\n",
              "    <tr>\n",
              "      <th>3</th>\n",
              "      <td>2019-04-19 05:31:43</td>\n",
              "      <td>MADRID</td>\n",
              "      <td>SEVILLA</td>\n",
              "      <td>2019-05-29 08:00:00</td>\n",
              "      <td>2019-05-29 10:32:00</td>\n",
              "      <td>AVE</td>\n",
              "      <td>69.40</td>\n",
              "      <td>Preferente</td>\n",
              "      <td>Promo</td>\n",
              "    </tr>\n",
              "    <tr>\n",
              "      <th>4</th>\n",
              "      <td>2019-04-19 05:31:43</td>\n",
              "      <td>MADRID</td>\n",
              "      <td>SEVILLA</td>\n",
              "      <td>2019-05-29 08:30:00</td>\n",
              "      <td>2019-05-29 11:14:00</td>\n",
              "      <td>ALVIA</td>\n",
              "      <td>NaN</td>\n",
              "      <td>Turista</td>\n",
              "      <td>Promo</td>\n",
              "    </tr>\n",
              "    <tr>\n",
              "      <th>5</th>\n",
              "      <td>2019-04-19 05:31:43</td>\n",
              "      <td>MADRID</td>\n",
              "      <td>SEVILLA</td>\n",
              "      <td>2019-05-29 09:00:00</td>\n",
              "      <td>2019-05-29 11:38:00</td>\n",
              "      <td>AVE</td>\n",
              "      <td>60.30</td>\n",
              "      <td>Turista</td>\n",
              "      <td>Promo</td>\n",
              "    </tr>\n",
              "    <tr>\n",
              "      <th>6</th>\n",
              "      <td>2019-04-19 05:31:43</td>\n",
              "      <td>MADRID</td>\n",
              "      <td>SEVILLA</td>\n",
              "      <td>2019-05-29 09:45:00</td>\n",
              "      <td>2019-05-29 12:27:00</td>\n",
              "      <td>INTERCITY</td>\n",
              "      <td>62.20</td>\n",
              "      <td>Turista</td>\n",
              "      <td>Flexible</td>\n",
              "    </tr>\n",
              "    <tr>\n",
              "      <th>7</th>\n",
              "      <td>2019-04-19 05:31:43</td>\n",
              "      <td>MADRID</td>\n",
              "      <td>SEVILLA</td>\n",
              "      <td>2019-05-29 10:00:00</td>\n",
              "      <td>2019-05-29 12:32:00</td>\n",
              "      <td>AVE</td>\n",
              "      <td>47.30</td>\n",
              "      <td>Turista</td>\n",
              "      <td>Promo</td>\n",
              "    </tr>\n",
              "    <tr>\n",
              "      <th>8</th>\n",
              "      <td>2019-04-19 05:31:43</td>\n",
              "      <td>MADRID</td>\n",
              "      <td>SEVILLA</td>\n",
              "      <td>2019-05-29 11:00:00</td>\n",
              "      <td>2019-05-29 13:32:00</td>\n",
              "      <td>AVE</td>\n",
              "      <td>53.40</td>\n",
              "      <td>Turista</td>\n",
              "      <td>Promo</td>\n",
              "    </tr>\n",
              "    <tr>\n",
              "      <th>9</th>\n",
              "      <td>2019-04-19 05:31:43</td>\n",
              "      <td>MADRID</td>\n",
              "      <td>SEVILLA</td>\n",
              "      <td>2019-05-29 11:05:00</td>\n",
              "      <td>2019-05-29 13:41:00</td>\n",
              "      <td>ALVIA</td>\n",
              "      <td>NaN</td>\n",
              "      <td>Turista</td>\n",
              "      <td>Promo</td>\n",
              "    </tr>\n",
              "  </tbody>\n",
              "</table>\n",
              "</div>"
            ],
            "text/plain": [
              "           insert_date  origin destination  ...  price train_class      fare\n",
              "0  2019-04-19 05:31:43  MADRID     SEVILLA  ...  38.55     Turista     Promo\n",
              "1  2019-04-19 05:31:43  MADRID     SEVILLA  ...  53.40     Turista     Promo\n",
              "2  2019-04-19 05:31:43  MADRID     SEVILLA  ...  47.30     Turista     Promo\n",
              "3  2019-04-19 05:31:43  MADRID     SEVILLA  ...  69.40  Preferente     Promo\n",
              "4  2019-04-19 05:31:43  MADRID     SEVILLA  ...    NaN     Turista     Promo\n",
              "5  2019-04-19 05:31:43  MADRID     SEVILLA  ...  60.30     Turista     Promo\n",
              "6  2019-04-19 05:31:43  MADRID     SEVILLA  ...  62.20     Turista  Flexible\n",
              "7  2019-04-19 05:31:43  MADRID     SEVILLA  ...  47.30     Turista     Promo\n",
              "8  2019-04-19 05:31:43  MADRID     SEVILLA  ...  53.40     Turista     Promo\n",
              "9  2019-04-19 05:31:43  MADRID     SEVILLA  ...    NaN     Turista     Promo\n",
              "\n",
              "[10 rows x 9 columns]"
            ]
          },
          "metadata": {
            "tags": []
          },
          "execution_count": 17
        }
      ]
    },
    {
      "cell_type": "code",
      "metadata": {
        "id": "Zla4kP1bsy8O",
        "colab_type": "code",
        "colab": {
          "base_uri": "https://localhost:8080/",
          "height": 187
        },
        "outputId": "c43cec02-8c80-44f8-f0ef-4caebd8dfeae"
      },
      "source": [
        "data.isna().sum()"
      ],
      "execution_count": 14,
      "outputs": [
        {
          "output_type": "execute_result",
          "data": {
            "text/plain": [
              "insert_date         0\n",
              "origin              0\n",
              "destination         0\n",
              "start_date          0\n",
              "end_date            0\n",
              "train_type          0\n",
              "price          310681\n",
              "train_class      9664\n",
              "fare             9664\n",
              "dtype: int64"
            ]
          },
          "metadata": {
            "tags": []
          },
          "execution_count": 14
        }
      ]
    },
    {
      "cell_type": "code",
      "metadata": {
        "id": "tPNNBRvrvA2O",
        "colab_type": "code",
        "colab": {
          "base_uri": "https://localhost:8080/",
          "height": 34
        },
        "outputId": "5711b982-9233-4f1d-9323-0883cb300a14"
      },
      "source": [
        "data.price.max(), data.price.min(), data.price.mean()"
      ],
      "execution_count": 18,
      "outputs": [
        {
          "output_type": "execute_result",
          "data": {
            "text/plain": [
              "(214.2, 15.45, 63.38550341776677)"
            ]
          },
          "metadata": {
            "tags": []
          },
          "execution_count": 18
        }
      ]
    },
    {
      "cell_type": "code",
      "metadata": {
        "id": "55Po6Ib2vpUL",
        "colab_type": "code",
        "colab": {}
      },
      "source": [
        "#Change these columns into datetime type.\n",
        "dates = [\"insert_date\",\"start_date\",\"end_date\"]\n",
        "for i in dates:\n",
        "  data[i] = pd.to_datetime(data[i])     "
      ],
      "execution_count": 0,
      "outputs": []
    },
    {
      "cell_type": "code",
      "metadata": {
        "id": "AX3pkBJ7xdUL",
        "colab_type": "code",
        "colab": {
          "base_uri": "https://localhost:8080/",
          "height": 255
        },
        "outputId": "2ece1658-c75c-482f-b1d1-8cc034ec870f"
      },
      "source": [
        "data.info()"
      ],
      "execution_count": 20,
      "outputs": [
        {
          "output_type": "stream",
          "text": [
            "<class 'pandas.core.frame.DataFrame'>\n",
            "Int64Index: 2579771 entries, 0 to 2579770\n",
            "Data columns (total 9 columns):\n",
            "insert_date    datetime64[ns]\n",
            "origin         object\n",
            "destination    object\n",
            "start_date     datetime64[ns]\n",
            "end_date       datetime64[ns]\n",
            "train_type     object\n",
            "price          float64\n",
            "train_class    object\n",
            "fare           object\n",
            "dtypes: datetime64[ns](3), float64(1), object(5)\n",
            "memory usage: 196.8+ MB\n"
          ],
          "name": "stdout"
        }
      ]
    },
    {
      "cell_type": "code",
      "metadata": {
        "id": "0op5dPxMzJ-1",
        "colab_type": "code",
        "colab": {
          "base_uri": "https://localhost:8080/",
          "height": 136
        },
        "outputId": "37448f6e-ecad-4eee-f1d5-03d7d20d77fa"
      },
      "source": [
        "data['train_class'].value_counts()"
      ],
      "execution_count": 29,
      "outputs": [
        {
          "output_type": "execute_result",
          "data": {
            "text/plain": [
              "Turista               1950303\n",
              "Preferente             256082\n",
              "Turista Plus           192908\n",
              "Turista con enlace     169549\n",
              "Cama Turista             1051\n",
              "Cama G. Clase             214\n",
              "Name: train_class, dtype: int64"
            ]
          },
          "metadata": {
            "tags": []
          },
          "execution_count": 29
        }
      ]
    },
    {
      "cell_type": "code",
      "metadata": {
        "id": "jMa3gaoQzbEE",
        "colab_type": "code",
        "colab": {
          "base_uri": "https://localhost:8080/",
          "height": 153
        },
        "outputId": "3a405aa7-9c08-45f2-c147-afc7bdf0a4d4"
      },
      "source": [
        "data['fare'].value_counts()"
      ],
      "execution_count": 31,
      "outputs": [
        {
          "output_type": "execute_result",
          "data": {
            "text/plain": [
              "Promo                  1733423\n",
              "Flexible                582743\n",
              "Adulto ida              179844\n",
              "Promo +                  73778\n",
              "Individual-Flexible        214\n",
              "Mesa                        99\n",
              "Grupos Ida                   6\n",
              "Name: fare, dtype: int64"
            ]
          },
          "metadata": {
            "tags": []
          },
          "execution_count": 31
        }
      ]
    },
    {
      "cell_type": "code",
      "metadata": {
        "id": "jokVnvAA0dkp",
        "colab_type": "code",
        "colab": {}
      },
      "source": [
        "#Fill the missing value in fare column be the mode value.\n",
        "data['fare'].fillna(data['fare'].mode()[0],inplace=True)"
      ],
      "execution_count": 0,
      "outputs": []
    },
    {
      "cell_type": "code",
      "metadata": {
        "id": "ngP71dZR085q",
        "colab_type": "code",
        "colab": {
          "base_uri": "https://localhost:8080/",
          "height": 153
        },
        "outputId": "a16a9d4f-b121-48ca-fff4-771e17a4cece"
      },
      "source": [
        "data['fare'].value_counts()"
      ],
      "execution_count": 37,
      "outputs": [
        {
          "output_type": "execute_result",
          "data": {
            "text/plain": [
              "Promo                  1743087\n",
              "Flexible                582743\n",
              "Adulto ida              179844\n",
              "Promo +                  73778\n",
              "Individual-Flexible        214\n",
              "Mesa                        99\n",
              "Grupos Ida                   6\n",
              "Name: fare, dtype: int64"
            ]
          },
          "metadata": {
            "tags": []
          },
          "execution_count": 37
        }
      ]
    },
    {
      "cell_type": "code",
      "metadata": {
        "id": "bKlTcHri1B6-",
        "colab_type": "code",
        "colab": {}
      },
      "source": [
        "#Fill the train_class missing values with the mode value\n",
        "data['train_class'].fillna(data['train_class'].mode()[0],inplace=True)"
      ],
      "execution_count": 0,
      "outputs": []
    },
    {
      "cell_type": "code",
      "metadata": {
        "id": "VAolWmqb1efI",
        "colab_type": "code",
        "colab": {
          "base_uri": "https://localhost:8080/",
          "height": 136
        },
        "outputId": "762abcfe-c070-4b72-c5de-7a4676f7400a"
      },
      "source": [
        "data['train_class'].value_counts()"
      ],
      "execution_count": 39,
      "outputs": [
        {
          "output_type": "execute_result",
          "data": {
            "text/plain": [
              "Turista               1959967\n",
              "Preferente             256082\n",
              "Turista Plus           192908\n",
              "Turista con enlace     169549\n",
              "Cama Turista             1051\n",
              "Cama G. Clase             214\n",
              "Name: train_class, dtype: int64"
            ]
          },
          "metadata": {
            "tags": []
          },
          "execution_count": 39
        }
      ]
    },
    {
      "cell_type": "code",
      "metadata": {
        "id": "6J4HnB2S1gvB",
        "colab_type": "code",
        "colab": {}
      },
      "source": [
        "#Fill the missing values in price column based on 'fare' column \n",
        "data.loc[data.price.isnull(), 'price'] = data.groupby(['fare']).price.transform('mean')"
      ],
      "execution_count": 0,
      "outputs": []
    },
    {
      "cell_type": "code",
      "metadata": {
        "id": "itS9dqs81yeM",
        "colab_type": "code",
        "colab": {
          "base_uri": "https://localhost:8080/",
          "height": 187
        },
        "outputId": "0469a2f4-a62c-48b9-daf0-82f370a70e67"
      },
      "source": [
        "#Check for the missing values again.\n",
        "data.isnull().sum()"
      ],
      "execution_count": 45,
      "outputs": [
        {
          "output_type": "execute_result",
          "data": {
            "text/plain": [
              "insert_date    0\n",
              "origin         0\n",
              "destination    0\n",
              "start_date     0\n",
              "end_date       0\n",
              "train_type     0\n",
              "price          0\n",
              "train_class    0\n",
              "fare           0\n",
              "dtype: int64"
            ]
          },
          "metadata": {
            "tags": []
          },
          "execution_count": 45
        }
      ]
    },
    {
      "cell_type": "code",
      "metadata": {
        "id": "T2EDwUGTDH-f",
        "colab_type": "code",
        "colab": {
          "base_uri": "https://localhost:8080/",
          "height": 204
        },
        "outputId": "8c1562cf-86bb-45df-e407-52f934215bb2"
      },
      "source": [
        "data.head()"
      ],
      "execution_count": 55,
      "outputs": [
        {
          "output_type": "execute_result",
          "data": {
            "text/html": [
              "<div>\n",
              "<style scoped>\n",
              "    .dataframe tbody tr th:only-of-type {\n",
              "        vertical-align: middle;\n",
              "    }\n",
              "\n",
              "    .dataframe tbody tr th {\n",
              "        vertical-align: top;\n",
              "    }\n",
              "\n",
              "    .dataframe thead th {\n",
              "        text-align: right;\n",
              "    }\n",
              "</style>\n",
              "<table border=\"1\" class=\"dataframe\">\n",
              "  <thead>\n",
              "    <tr style=\"text-align: right;\">\n",
              "      <th></th>\n",
              "      <th>insert_date</th>\n",
              "      <th>origin</th>\n",
              "      <th>destination</th>\n",
              "      <th>start_date</th>\n",
              "      <th>end_date</th>\n",
              "      <th>train_type</th>\n",
              "      <th>price</th>\n",
              "      <th>train_class</th>\n",
              "      <th>fare</th>\n",
              "    </tr>\n",
              "  </thead>\n",
              "  <tbody>\n",
              "    <tr>\n",
              "      <th>0</th>\n",
              "      <td>2019-04-19 05:31:43</td>\n",
              "      <td>MADRID</td>\n",
              "      <td>SEVILLA</td>\n",
              "      <td>2019-05-29 06:20:00</td>\n",
              "      <td>2019-05-29 09:16:00</td>\n",
              "      <td>AV City</td>\n",
              "      <td>38.550000</td>\n",
              "      <td>Turista</td>\n",
              "      <td>Promo</td>\n",
              "    </tr>\n",
              "    <tr>\n",
              "      <th>1</th>\n",
              "      <td>2019-04-19 05:31:43</td>\n",
              "      <td>MADRID</td>\n",
              "      <td>SEVILLA</td>\n",
              "      <td>2019-05-29 07:00:00</td>\n",
              "      <td>2019-05-29 09:32:00</td>\n",
              "      <td>AVE</td>\n",
              "      <td>53.400000</td>\n",
              "      <td>Turista</td>\n",
              "      <td>Promo</td>\n",
              "    </tr>\n",
              "    <tr>\n",
              "      <th>2</th>\n",
              "      <td>2019-04-19 05:31:43</td>\n",
              "      <td>MADRID</td>\n",
              "      <td>SEVILLA</td>\n",
              "      <td>2019-05-29 07:30:00</td>\n",
              "      <td>2019-05-29 09:51:00</td>\n",
              "      <td>AVE</td>\n",
              "      <td>47.300000</td>\n",
              "      <td>Turista</td>\n",
              "      <td>Promo</td>\n",
              "    </tr>\n",
              "    <tr>\n",
              "      <th>3</th>\n",
              "      <td>2019-04-19 05:31:43</td>\n",
              "      <td>MADRID</td>\n",
              "      <td>SEVILLA</td>\n",
              "      <td>2019-05-29 08:00:00</td>\n",
              "      <td>2019-05-29 10:32:00</td>\n",
              "      <td>AVE</td>\n",
              "      <td>69.400000</td>\n",
              "      <td>Preferente</td>\n",
              "      <td>Promo</td>\n",
              "    </tr>\n",
              "    <tr>\n",
              "      <th>4</th>\n",
              "      <td>2019-04-19 05:31:43</td>\n",
              "      <td>MADRID</td>\n",
              "      <td>SEVILLA</td>\n",
              "      <td>2019-05-29 08:30:00</td>\n",
              "      <td>2019-05-29 11:14:00</td>\n",
              "      <td>ALVIA</td>\n",
              "      <td>62.582549</td>\n",
              "      <td>Turista</td>\n",
              "      <td>Promo</td>\n",
              "    </tr>\n",
              "  </tbody>\n",
              "</table>\n",
              "</div>"
            ],
            "text/plain": [
              "          insert_date  origin destination  ...      price train_class   fare\n",
              "0 2019-04-19 05:31:43  MADRID     SEVILLA  ...  38.550000     Turista  Promo\n",
              "1 2019-04-19 05:31:43  MADRID     SEVILLA  ...  53.400000     Turista  Promo\n",
              "2 2019-04-19 05:31:43  MADRID     SEVILLA  ...  47.300000     Turista  Promo\n",
              "3 2019-04-19 05:31:43  MADRID     SEVILLA  ...  69.400000  Preferente  Promo\n",
              "4 2019-04-19 05:31:43  MADRID     SEVILLA  ...  62.582549     Turista  Promo\n",
              "\n",
              "[5 rows x 9 columns]"
            ]
          },
          "metadata": {
            "tags": []
          },
          "execution_count": 55
        }
      ]
    },
    {
      "cell_type": "code",
      "metadata": {
        "id": "Pe5UsssG70L3",
        "colab_type": "code",
        "colab": {}
      },
      "source": [
        ""
      ],
      "execution_count": 0,
      "outputs": []
    }
  ]
}