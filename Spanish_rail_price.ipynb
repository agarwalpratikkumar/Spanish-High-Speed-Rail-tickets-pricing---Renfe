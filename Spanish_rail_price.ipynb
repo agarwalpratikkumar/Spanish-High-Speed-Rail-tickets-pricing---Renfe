{
  "nbformat": 4,
  "nbformat_minor": 0,
  "metadata": {
    "colab": {
      "name": "Spanish_rail_price.ipynb",
      "version": "0.3.2",
      "provenance": [],
      "collapsed_sections": []
    },
    "kernelspec": {
      "name": "python3",
      "display_name": "Python 3"
    },
    "accelerator": "GPU"
  },
  "cells": [
    {
      "cell_type": "code",
      "metadata": {
        "id": "tYwnqlh6NiOY",
        "colab_type": "code",
        "outputId": "56709262-e322-4cd2-933d-73aadcff07c2",
        "colab": {
          "base_uri": "https://localhost:8080/",
          "height": 51
        }
      },
      "source": [
        "!unzip renfe.csv.zip"
      ],
      "execution_count": 1,
      "outputs": [
        {
          "output_type": "stream",
          "text": [
            "Archive:  renfe.csv.zip\n",
            "  inflating: renfe.csv               \n"
          ],
          "name": "stdout"
        }
      ]
    },
    {
      "cell_type": "code",
      "metadata": {
        "id": "dtVqt0tUsTra",
        "colab_type": "code",
        "colab": {}
      },
      "source": [
        "import pandas as pd\n",
        "import numpy as np\n",
        "import matplotlib.pyplot as plt\n",
        "import seaborn as sns"
      ],
      "execution_count": 0,
      "outputs": []
    },
    {
      "cell_type": "code",
      "metadata": {
        "id": "RZIvEyz6sbvS",
        "colab_type": "code",
        "outputId": "d4b0eec7-013a-443d-f6a4-f43f9d9df021",
        "colab": {
          "base_uri": "https://localhost:8080/",
          "height": 71
        }
      },
      "source": [
        " data = pd.read_csv(\"renfe.csv\",index_col=0)"
      ],
      "execution_count": 2,
      "outputs": [
        {
          "output_type": "stream",
          "text": [
            "/usr/local/lib/python3.6/dist-packages/numpy/lib/arraysetops.py:569: FutureWarning: elementwise comparison failed; returning scalar instead, but in the future will perform elementwise comparison\n",
            "  mask |= (ar1 == a)\n"
          ],
          "name": "stderr"
        }
      ]
    },
    {
      "cell_type": "code",
      "metadata": {
        "id": "VjHhOuTTsgcx",
        "colab_type": "code",
        "outputId": "a823f22f-34c9-440b-fc09-7be8832ed9b7",
        "colab": {
          "base_uri": "https://localhost:8080/",
          "height": 34
        }
      },
      "source": [
        "data.shape"
      ],
      "execution_count": 3,
      "outputs": [
        {
          "output_type": "execute_result",
          "data": {
            "text/plain": [
              "(2579771, 9)"
            ]
          },
          "metadata": {
            "tags": []
          },
          "execution_count": 3
        }
      ]
    },
    {
      "cell_type": "code",
      "metadata": {
        "id": "PrdeU6Y_siFD",
        "colab_type": "code",
        "outputId": "30d6af6d-5491-4515-8a48-d65247f84fa1",
        "colab": {
          "base_uri": "https://localhost:8080/",
          "height": 68
        }
      },
      "source": [
        "data.columns"
      ],
      "execution_count": 4,
      "outputs": [
        {
          "output_type": "execute_result",
          "data": {
            "text/plain": [
              "Index(['insert_date', 'origin', 'destination', 'start_date', 'end_date',\n",
              "       'train_type', 'price', 'train_class', 'fare'],\n",
              "      dtype='object')"
            ]
          },
          "metadata": {
            "tags": []
          },
          "execution_count": 4
        }
      ]
    },
    {
      "cell_type": "code",
      "metadata": {
        "id": "bGm6uMt5skLS",
        "colab_type": "code",
        "outputId": "5b56bcee-7756-4886-9e1c-da0bce4e2928",
        "colab": {
          "base_uri": "https://localhost:8080/",
          "height": 187
        }
      },
      "source": [
        "data.dtypes"
      ],
      "execution_count": 5,
      "outputs": [
        {
          "output_type": "execute_result",
          "data": {
            "text/plain": [
              "insert_date     object\n",
              "origin          object\n",
              "destination     object\n",
              "start_date      object\n",
              "end_date        object\n",
              "train_type      object\n",
              "price          float64\n",
              "train_class     object\n",
              "fare            object\n",
              "dtype: object"
            ]
          },
          "metadata": {
            "tags": []
          },
          "execution_count": 5
        }
      ]
    },
    {
      "cell_type": "code",
      "metadata": {
        "id": "QQP8zHWUsmDl",
        "colab_type": "code",
        "outputId": "7a79b289-8852-45cf-ff97-7612f9cc8cf5",
        "colab": {
          "base_uri": "https://localhost:8080/",
          "height": 359
        }
      },
      "source": [
        "data[:10]"
      ],
      "execution_count": 6,
      "outputs": [
        {
          "output_type": "execute_result",
          "data": {
            "text/html": [
              "<div>\n",
              "<style scoped>\n",
              "    .dataframe tbody tr th:only-of-type {\n",
              "        vertical-align: middle;\n",
              "    }\n",
              "\n",
              "    .dataframe tbody tr th {\n",
              "        vertical-align: top;\n",
              "    }\n",
              "\n",
              "    .dataframe thead th {\n",
              "        text-align: right;\n",
              "    }\n",
              "</style>\n",
              "<table border=\"1\" class=\"dataframe\">\n",
              "  <thead>\n",
              "    <tr style=\"text-align: right;\">\n",
              "      <th></th>\n",
              "      <th>insert_date</th>\n",
              "      <th>origin</th>\n",
              "      <th>destination</th>\n",
              "      <th>start_date</th>\n",
              "      <th>end_date</th>\n",
              "      <th>train_type</th>\n",
              "      <th>price</th>\n",
              "      <th>train_class</th>\n",
              "      <th>fare</th>\n",
              "    </tr>\n",
              "  </thead>\n",
              "  <tbody>\n",
              "    <tr>\n",
              "      <th>0</th>\n",
              "      <td>2019-04-19 05:31:43</td>\n",
              "      <td>MADRID</td>\n",
              "      <td>SEVILLA</td>\n",
              "      <td>2019-05-29 06:20:00</td>\n",
              "      <td>2019-05-29 09:16:00</td>\n",
              "      <td>AV City</td>\n",
              "      <td>38.55</td>\n",
              "      <td>Turista</td>\n",
              "      <td>Promo</td>\n",
              "    </tr>\n",
              "    <tr>\n",
              "      <th>1</th>\n",
              "      <td>2019-04-19 05:31:43</td>\n",
              "      <td>MADRID</td>\n",
              "      <td>SEVILLA</td>\n",
              "      <td>2019-05-29 07:00:00</td>\n",
              "      <td>2019-05-29 09:32:00</td>\n",
              "      <td>AVE</td>\n",
              "      <td>53.40</td>\n",
              "      <td>Turista</td>\n",
              "      <td>Promo</td>\n",
              "    </tr>\n",
              "    <tr>\n",
              "      <th>2</th>\n",
              "      <td>2019-04-19 05:31:43</td>\n",
              "      <td>MADRID</td>\n",
              "      <td>SEVILLA</td>\n",
              "      <td>2019-05-29 07:30:00</td>\n",
              "      <td>2019-05-29 09:51:00</td>\n",
              "      <td>AVE</td>\n",
              "      <td>47.30</td>\n",
              "      <td>Turista</td>\n",
              "      <td>Promo</td>\n",
              "    </tr>\n",
              "    <tr>\n",
              "      <th>3</th>\n",
              "      <td>2019-04-19 05:31:43</td>\n",
              "      <td>MADRID</td>\n",
              "      <td>SEVILLA</td>\n",
              "      <td>2019-05-29 08:00:00</td>\n",
              "      <td>2019-05-29 10:32:00</td>\n",
              "      <td>AVE</td>\n",
              "      <td>69.40</td>\n",
              "      <td>Preferente</td>\n",
              "      <td>Promo</td>\n",
              "    </tr>\n",
              "    <tr>\n",
              "      <th>4</th>\n",
              "      <td>2019-04-19 05:31:43</td>\n",
              "      <td>MADRID</td>\n",
              "      <td>SEVILLA</td>\n",
              "      <td>2019-05-29 08:30:00</td>\n",
              "      <td>2019-05-29 11:14:00</td>\n",
              "      <td>ALVIA</td>\n",
              "      <td>NaN</td>\n",
              "      <td>Turista</td>\n",
              "      <td>Promo</td>\n",
              "    </tr>\n",
              "    <tr>\n",
              "      <th>5</th>\n",
              "      <td>2019-04-19 05:31:43</td>\n",
              "      <td>MADRID</td>\n",
              "      <td>SEVILLA</td>\n",
              "      <td>2019-05-29 09:00:00</td>\n",
              "      <td>2019-05-29 11:38:00</td>\n",
              "      <td>AVE</td>\n",
              "      <td>60.30</td>\n",
              "      <td>Turista</td>\n",
              "      <td>Promo</td>\n",
              "    </tr>\n",
              "    <tr>\n",
              "      <th>6</th>\n",
              "      <td>2019-04-19 05:31:43</td>\n",
              "      <td>MADRID</td>\n",
              "      <td>SEVILLA</td>\n",
              "      <td>2019-05-29 09:45:00</td>\n",
              "      <td>2019-05-29 12:27:00</td>\n",
              "      <td>INTERCITY</td>\n",
              "      <td>62.20</td>\n",
              "      <td>Turista</td>\n",
              "      <td>Flexible</td>\n",
              "    </tr>\n",
              "    <tr>\n",
              "      <th>7</th>\n",
              "      <td>2019-04-19 05:31:43</td>\n",
              "      <td>MADRID</td>\n",
              "      <td>SEVILLA</td>\n",
              "      <td>2019-05-29 10:00:00</td>\n",
              "      <td>2019-05-29 12:32:00</td>\n",
              "      <td>AVE</td>\n",
              "      <td>47.30</td>\n",
              "      <td>Turista</td>\n",
              "      <td>Promo</td>\n",
              "    </tr>\n",
              "    <tr>\n",
              "      <th>8</th>\n",
              "      <td>2019-04-19 05:31:43</td>\n",
              "      <td>MADRID</td>\n",
              "      <td>SEVILLA</td>\n",
              "      <td>2019-05-29 11:00:00</td>\n",
              "      <td>2019-05-29 13:32:00</td>\n",
              "      <td>AVE</td>\n",
              "      <td>53.40</td>\n",
              "      <td>Turista</td>\n",
              "      <td>Promo</td>\n",
              "    </tr>\n",
              "    <tr>\n",
              "      <th>9</th>\n",
              "      <td>2019-04-19 05:31:43</td>\n",
              "      <td>MADRID</td>\n",
              "      <td>SEVILLA</td>\n",
              "      <td>2019-05-29 11:05:00</td>\n",
              "      <td>2019-05-29 13:41:00</td>\n",
              "      <td>ALVIA</td>\n",
              "      <td>NaN</td>\n",
              "      <td>Turista</td>\n",
              "      <td>Promo</td>\n",
              "    </tr>\n",
              "  </tbody>\n",
              "</table>\n",
              "</div>"
            ],
            "text/plain": [
              "           insert_date  origin destination  ...  price train_class      fare\n",
              "0  2019-04-19 05:31:43  MADRID     SEVILLA  ...  38.55     Turista     Promo\n",
              "1  2019-04-19 05:31:43  MADRID     SEVILLA  ...  53.40     Turista     Promo\n",
              "2  2019-04-19 05:31:43  MADRID     SEVILLA  ...  47.30     Turista     Promo\n",
              "3  2019-04-19 05:31:43  MADRID     SEVILLA  ...  69.40  Preferente     Promo\n",
              "4  2019-04-19 05:31:43  MADRID     SEVILLA  ...    NaN     Turista     Promo\n",
              "5  2019-04-19 05:31:43  MADRID     SEVILLA  ...  60.30     Turista     Promo\n",
              "6  2019-04-19 05:31:43  MADRID     SEVILLA  ...  62.20     Turista  Flexible\n",
              "7  2019-04-19 05:31:43  MADRID     SEVILLA  ...  47.30     Turista     Promo\n",
              "8  2019-04-19 05:31:43  MADRID     SEVILLA  ...  53.40     Turista     Promo\n",
              "9  2019-04-19 05:31:43  MADRID     SEVILLA  ...    NaN     Turista     Promo\n",
              "\n",
              "[10 rows x 9 columns]"
            ]
          },
          "metadata": {
            "tags": []
          },
          "execution_count": 6
        }
      ]
    },
    {
      "cell_type": "code",
      "metadata": {
        "id": "Zla4kP1bsy8O",
        "colab_type": "code",
        "outputId": "b5da578d-e109-4499-e232-95ce29c7956f",
        "colab": {
          "base_uri": "https://localhost:8080/",
          "height": 187
        }
      },
      "source": [
        "data.isna().sum()"
      ],
      "execution_count": 7,
      "outputs": [
        {
          "output_type": "execute_result",
          "data": {
            "text/plain": [
              "insert_date         0\n",
              "origin              0\n",
              "destination         0\n",
              "start_date          0\n",
              "end_date            0\n",
              "train_type          0\n",
              "price          310681\n",
              "train_class      9664\n",
              "fare             9664\n",
              "dtype: int64"
            ]
          },
          "metadata": {
            "tags": []
          },
          "execution_count": 7
        }
      ]
    },
    {
      "cell_type": "code",
      "metadata": {
        "id": "tPNNBRvrvA2O",
        "colab_type": "code",
        "outputId": "c64a4e2e-4261-4863-d786-bc6a30743392",
        "colab": {
          "base_uri": "https://localhost:8080/",
          "height": 34
        }
      },
      "source": [
        "data.price.max(), data.price.min(), data.price.mean()"
      ],
      "execution_count": 8,
      "outputs": [
        {
          "output_type": "execute_result",
          "data": {
            "text/plain": [
              "(214.2, 15.45, 63.38550341776677)"
            ]
          },
          "metadata": {
            "tags": []
          },
          "execution_count": 8
        }
      ]
    },
    {
      "cell_type": "code",
      "metadata": {
        "id": "55Po6Ib2vpUL",
        "colab_type": "code",
        "colab": {}
      },
      "source": [
        "#Change these columns into datetime type.\n",
        "dates = [\"insert_date\",\"start_date\",\"end_date\"]\n",
        "for i in dates:\n",
        "  data[i] = pd.to_datetime(data[i])     "
      ],
      "execution_count": 0,
      "outputs": []
    },
    {
      "cell_type": "code",
      "metadata": {
        "id": "AX3pkBJ7xdUL",
        "colab_type": "code",
        "outputId": "fbe19595-bf0f-476e-f644-0cf01edef069",
        "colab": {
          "base_uri": "https://localhost:8080/",
          "height": 255
        }
      },
      "source": [
        "data.info()"
      ],
      "execution_count": 10,
      "outputs": [
        {
          "output_type": "stream",
          "text": [
            "<class 'pandas.core.frame.DataFrame'>\n",
            "Int64Index: 2579771 entries, 0 to 2579770\n",
            "Data columns (total 9 columns):\n",
            "insert_date    datetime64[ns]\n",
            "origin         object\n",
            "destination    object\n",
            "start_date     datetime64[ns]\n",
            "end_date       datetime64[ns]\n",
            "train_type     object\n",
            "price          float64\n",
            "train_class    object\n",
            "fare           object\n",
            "dtypes: datetime64[ns](3), float64(1), object(5)\n",
            "memory usage: 196.8+ MB\n"
          ],
          "name": "stdout"
        }
      ]
    },
    {
      "cell_type": "code",
      "metadata": {
        "id": "0op5dPxMzJ-1",
        "colab_type": "code",
        "outputId": "709d7847-772f-4372-d35c-ba7f336e6c04",
        "colab": {
          "base_uri": "https://localhost:8080/",
          "height": 136
        }
      },
      "source": [
        "data['train_class'].value_counts()"
      ],
      "execution_count": 11,
      "outputs": [
        {
          "output_type": "execute_result",
          "data": {
            "text/plain": [
              "Turista               1950303\n",
              "Preferente             256082\n",
              "Turista Plus           192908\n",
              "Turista con enlace     169549\n",
              "Cama Turista             1051\n",
              "Cama G. Clase             214\n",
              "Name: train_class, dtype: int64"
            ]
          },
          "metadata": {
            "tags": []
          },
          "execution_count": 11
        }
      ]
    },
    {
      "cell_type": "code",
      "metadata": {
        "id": "jMa3gaoQzbEE",
        "colab_type": "code",
        "outputId": "35250123-3cb0-4859-b325-b9e0b9a1c554",
        "colab": {
          "base_uri": "https://localhost:8080/",
          "height": 153
        }
      },
      "source": [
        "data['fare'].value_counts()"
      ],
      "execution_count": 12,
      "outputs": [
        {
          "output_type": "execute_result",
          "data": {
            "text/plain": [
              "Promo                  1733423\n",
              "Flexible                582743\n",
              "Adulto ida              179844\n",
              "Promo +                  73778\n",
              "Individual-Flexible        214\n",
              "Mesa                        99\n",
              "Grupos Ida                   6\n",
              "Name: fare, dtype: int64"
            ]
          },
          "metadata": {
            "tags": []
          },
          "execution_count": 12
        }
      ]
    },
    {
      "cell_type": "code",
      "metadata": {
        "id": "jokVnvAA0dkp",
        "colab_type": "code",
        "colab": {}
      },
      "source": [
        "#Fill the missing value in fare column be the mode value.\n",
        "data['fare'].fillna(data['fare'].mode()[0],inplace=True)"
      ],
      "execution_count": 0,
      "outputs": []
    },
    {
      "cell_type": "code",
      "metadata": {
        "id": "ngP71dZR085q",
        "colab_type": "code",
        "outputId": "5ad8c4fe-8f9b-4d54-ee80-bfae683462d5",
        "colab": {
          "base_uri": "https://localhost:8080/",
          "height": 153
        }
      },
      "source": [
        "data['fare'].value_counts()"
      ],
      "execution_count": 14,
      "outputs": [
        {
          "output_type": "execute_result",
          "data": {
            "text/plain": [
              "Promo                  1743087\n",
              "Flexible                582743\n",
              "Adulto ida              179844\n",
              "Promo +                  73778\n",
              "Individual-Flexible        214\n",
              "Mesa                        99\n",
              "Grupos Ida                   6\n",
              "Name: fare, dtype: int64"
            ]
          },
          "metadata": {
            "tags": []
          },
          "execution_count": 14
        }
      ]
    },
    {
      "cell_type": "code",
      "metadata": {
        "id": "Pe5UsssG70L3",
        "colab_type": "code",
        "outputId": "a4b68c85-5cb7-47a6-997b-c5004676073d",
        "colab": {
          "base_uri": "https://localhost:8080/",
          "height": 354
        }
      },
      "source": [
        "fig, ax = plt.subplots(figsize=[20,5])\n",
        "sns.barplot(x=\"fare\", y=\"price\", data=data, ax = ax)"
      ],
      "execution_count": 16,
      "outputs": [
        {
          "output_type": "execute_result",
          "data": {
            "text/plain": [
              "<matplotlib.axes._subplots.AxesSubplot at 0x7f9116dacd30>"
            ]
          },
          "metadata": {
            "tags": []
          },
          "execution_count": 16
        },
        {
          "output_type": "display_data",
          "data": {
            "image/png": "[encoded data removed]",
            "text/plain": [
              "<Figure size 1440x360 with 1 Axes>"
            ]
          },
          "metadata": {
            "tags": []
          }
        }
      ]
    },
    {
      "cell_type": "markdown",
      "metadata": {
        "id": "TWtEQ4Hid3xP",
        "colab_type": "text"
      },
      "source": [
        "Majority of people are taking Promo fare because of the reasonable price.. "
      ]
    },
    {
      "cell_type": "code",
      "metadata": {
        "id": "bKlTcHri1B6-",
        "colab_type": "code",
        "colab": {}
      },
      "source": [
        "#Fill the train_class missing values with the mode value\n",
        "data['train_class'].fillna(data['train_class'].mode()[0],inplace=True)"
      ],
      "execution_count": 0,
      "outputs": []
    },
    {
      "cell_type": "code",
      "metadata": {
        "id": "VAolWmqb1efI",
        "colab_type": "code",
        "outputId": "1382acf4-ae59-4673-e3b4-911c74692d98",
        "colab": {
          "base_uri": "https://localhost:8080/",
          "height": 136
        }
      },
      "source": [
        "data['train_class'].value_counts()"
      ],
      "execution_count": 16,
      "outputs": [
        {
          "output_type": "execute_result",
          "data": {
            "text/plain": [
              "Turista               1959967\n",
              "Preferente             256082\n",
              "Turista Plus           192908\n",
              "Turista con enlace     169549\n",
              "Cama Turista             1051\n",
              "Cama G. Clase             214\n",
              "Name: train_class, dtype: int64"
            ]
          },
          "metadata": {
            "tags": []
          },
          "execution_count": 16
        }
      ]
    },
    {
      "cell_type": "code",
      "metadata": {
        "id": "6J4HnB2S1gvB",
        "colab_type": "code",
        "colab": {}
      },
      "source": [
        "#Fill the missing values in price column based on 'fare' column \n",
        "data.loc[data.price.isnull(), 'price'] = data.groupby(['fare']).price.transform('mean')"
      ],
      "execution_count": 0,
      "outputs": []
    },
    {
      "cell_type": "code",
      "metadata": {
        "id": "8_j0qaqPcC3o",
        "colab_type": "code",
        "outputId": "6ffa5b8d-54f6-4113-b6ec-4337cc8434e6",
        "colab": {
          "base_uri": "https://localhost:8080/",
          "height": 355
        }
      },
      "source": [
        "fig, ax = plt.subplots(figsize=[20,5])\n",
        "sns.barplot(x=\"train_class\", y=\"price\", data=data, ax = ax)"
      ],
      "execution_count": 20,
      "outputs": [
        {
          "output_type": "execute_result",
          "data": {
            "text/plain": [
              "<matplotlib.axes._subplots.AxesSubplot at 0x7f9116d90cf8>"
            ]
          },
          "metadata": {
            "tags": []
          },
          "execution_count": 20
        },
        {
          "output_type": "display_data",
          "data": {
            "image/png": "[encoded data removed]",
            "text/plain": [
              "<Figure size 1440x360 with 1 Axes>"
            ]
          },
          "metadata": {
            "tags": []
          }
        }
      ]
    },
    {
      "cell_type": "markdown",
      "metadata": {
        "id": "jylrh_e_e-Vi",
        "colab_type": "text"
      },
      "source": [
        "Majority of people travel in Turista class because of the reasonable price."
      ]
    },
    {
      "cell_type": "code",
      "metadata": {
        "id": "itS9dqs81yeM",
        "colab_type": "code",
        "outputId": "78a685a0-d4af-4939-ced4-324414421d55",
        "colab": {
          "base_uri": "https://localhost:8080/",
          "height": 187
        }
      },
      "source": [
        "#Check for the missing values again.\n",
        "data.isnull().sum()"
      ],
      "execution_count": 18,
      "outputs": [
        {
          "output_type": "execute_result",
          "data": {
            "text/plain": [
              "insert_date    0\n",
              "origin         0\n",
              "destination    0\n",
              "start_date     0\n",
              "end_date       0\n",
              "train_type     0\n",
              "price          0\n",
              "train_class    0\n",
              "fare           0\n",
              "dtype: int64"
            ]
          },
          "metadata": {
            "tags": []
          },
          "execution_count": 18
        }
      ]
    },
    {
      "cell_type": "code",
      "metadata": {
        "id": "ocpiDKetcUSB",
        "colab_type": "code",
        "outputId": "41ddf09b-6190-43c2-cd6c-57e02ffffdbd",
        "colab": {
          "base_uri": "https://localhost:8080/",
          "height": 119
        }
      },
      "source": [
        "data[\"origin\"].value_counts()\n"
      ],
      "execution_count": 19,
      "outputs": [
        {
          "output_type": "execute_result",
          "data": {
            "text/plain": [
              "MADRID        1359423\n",
              "BARCELONA      405621\n",
              "SEVILLA        398445\n",
              "VALENCIA       323086\n",
              "PONFERRADA      93196\n",
              "Name: origin, dtype: int64"
            ]
          },
          "metadata": {
            "tags": []
          },
          "execution_count": 19
        }
      ]
    },
    {
      "cell_type": "code",
      "metadata": {
        "id": "g84og6GTfepq",
        "colab_type": "code",
        "outputId": "51a16b8a-efab-4c2d-f05b-60a38132aafc",
        "colab": {
          "base_uri": "https://localhost:8080/",
          "height": 119
        }
      },
      "source": [
        "data[\"destination\"].value_counts()"
      ],
      "execution_count": 20,
      "outputs": [
        {
          "output_type": "execute_result",
          "data": {
            "text/plain": [
              "MADRID        1220348\n",
              "BARCELONA      480074\n",
              "SEVILLA        413155\n",
              "VALENCIA       399679\n",
              "PONFERRADA      66515\n",
              "Name: destination, dtype: int64"
            ]
          },
          "metadata": {
            "tags": []
          },
          "execution_count": 20
        }
      ]
    },
    {
      "cell_type": "code",
      "metadata": {
        "id": "6IwgWRCPk8lk",
        "colab_type": "code",
        "outputId": "18871dd1-7fbc-4b61-e0b1-22c09a7cd6bf",
        "colab": {
          "base_uri": "https://localhost:8080/",
          "height": 102
        }
      },
      "source": [
        "data[\"start_date\"].dt.month.value_counts()"
      ],
      "execution_count": 21,
      "outputs": [
        {
          "output_type": "execute_result",
          "data": {
            "text/plain": [
              "5    1850391\n",
              "4     495071\n",
              "6     218707\n",
              "7      15602\n",
              "Name: start_date, dtype: int64"
            ]
          },
          "metadata": {
            "tags": []
          },
          "execution_count": 21
        }
      ]
    },
    {
      "cell_type": "markdown",
      "metadata": {
        "id": "wnKuquNDoNcl",
        "colab_type": "text"
      },
      "source": [
        "So the 5th Month is the busiest month. "
      ]
    },
    {
      "cell_type": "code",
      "metadata": {
        "id": "Lb1Lx9QzLwpW",
        "colab_type": "code",
        "colab": {
          "base_uri": "https://localhost:8080/",
          "height": 51
        },
        "outputId": "d8c6f2f5-b4fe-460b-8a5a-020c6e407a84"
      },
      "source": [
        "data[\"start_date\"].dt.year.value_counts()"
      ],
      "execution_count": 22,
      "outputs": [
        {
          "output_type": "execute_result",
          "data": {
            "text/plain": [
              "2019    2579771\n",
              "Name: start_date, dtype: int64"
            ]
          },
          "metadata": {
            "tags": []
          },
          "execution_count": 22
        }
      ]
    },
    {
      "cell_type": "code",
      "metadata": {
        "id": "Vgu7IQG8L260",
        "colab_type": "code",
        "colab": {
          "base_uri": "https://localhost:8080/",
          "height": 51
        },
        "outputId": "1064c5e0-ac53-4ed1-8b7b-2d3d91fa8739"
      },
      "source": [
        "data[\"end_date\"].dt.year.value_counts()"
      ],
      "execution_count": 23,
      "outputs": [
        {
          "output_type": "execute_result",
          "data": {
            "text/plain": [
              "2019    2579771\n",
              "Name: end_date, dtype: int64"
            ]
          },
          "metadata": {
            "tags": []
          },
          "execution_count": 23
        }
      ]
    },
    {
      "cell_type": "markdown",
      "metadata": {
        "id": "RB69l_AwL6y9",
        "colab_type": "text"
      },
      "source": [
        "OK.. SO the whole dataset is of 2019. We can safely ignore year value then."
      ]
    },
    {
      "cell_type": "markdown",
      "metadata": {
        "id": "OzMJObCSPFF2",
        "colab_type": "text"
      },
      "source": [
        "**Feature Enginerring**"
      ]
    },
    {
      "cell_type": "code",
      "metadata": {
        "id": "1ocPuzKlL5L4",
        "colab_type": "code",
        "colab": {}
      },
      "source": [
        "for c in [\"insert_date\",\"start_date\",\"end_date\"]:\n",
        "  data[c+\"_hour\"] = data[c].dt.hour\n",
        "  data[c+\"_minute\"] = data[c].dt.minute\n",
        "  data[c+\"_weekday\"] = data[c].dt.weekday_name\n",
        "  data[c+\"_month\"] = data[c].dt.month\n",
        "  data[c+\"_day\"] = data[c].dt.day"
      ],
      "execution_count": 0,
      "outputs": []
    },
    {
      "cell_type": "code",
      "metadata": {
        "id": "uWr_15O1U6xK",
        "colab_type": "code",
        "colab": {}
      },
      "source": [
        "data[\"is_travelling_end_on_same_day\"] = np.where(data[\"start_date\"].dt.date == data[\"end_date\"].dt.date, \"Yes\", \"No\")"
      ],
      "execution_count": 0,
      "outputs": []
    },
    {
      "cell_type": "code",
      "metadata": {
        "id": "ykPIi_EEUuAU",
        "colab_type": "code",
        "colab": {
          "base_uri": "https://localhost:8080/",
          "height": 394
        },
        "outputId": "e135c16c-5bbe-442b-8d7a-e779df9e5bb4"
      },
      "source": [
        "data.head()"
      ],
      "execution_count": 26,
      "outputs": [
        {
          "output_type": "execute_result",
          "data": {
            "text/html": [
              "<div>\n",
              "<style scoped>\n",
              "    .dataframe tbody tr th:only-of-type {\n",
              "        vertical-align: middle;\n",
              "    }\n",
              "\n",
              "    .dataframe tbody tr th {\n",
              "        vertical-align: top;\n",
              "    }\n",
              "\n",
              "    .dataframe thead th {\n",
              "        text-align: right;\n",
              "    }\n",
              "</style>\n",
              "<table border=\"1\" class=\"dataframe\">\n",
              "  <thead>\n",
              "    <tr style=\"text-align: right;\">\n",
              "      <th></th>\n",
              "      <th>insert_date</th>\n",
              "      <th>origin</th>\n",
              "      <th>destination</th>\n",
              "      <th>start_date</th>\n",
              "      <th>end_date</th>\n",
              "      <th>train_type</th>\n",
              "      <th>price</th>\n",
              "      <th>train_class</th>\n",
              "      <th>fare</th>\n",
              "      <th>insert_date_hour</th>\n",
              "      <th>insert_date_minute</th>\n",
              "      <th>insert_date_weekday</th>\n",
              "      <th>insert_date_month</th>\n",
              "      <th>insert_date_day</th>\n",
              "      <th>start_date_hour</th>\n",
              "      <th>start_date_minute</th>\n",
              "      <th>start_date_weekday</th>\n",
              "      <th>start_date_month</th>\n",
              "      <th>start_date_day</th>\n",
              "      <th>end_date_hour</th>\n",
              "      <th>end_date_minute</th>\n",
              "      <th>end_date_weekday</th>\n",
              "      <th>end_date_month</th>\n",
              "      <th>end_date_day</th>\n",
              "      <th>is_travelling_end_on_same_day</th>\n",
              "    </tr>\n",
              "  </thead>\n",
              "  <tbody>\n",
              "    <tr>\n",
              "      <th>0</th>\n",
              "      <td>2019-04-19 05:31:43</td>\n",
              "      <td>MADRID</td>\n",
              "      <td>SEVILLA</td>\n",
              "      <td>2019-05-29 06:20:00</td>\n",
              "      <td>2019-05-29 09:16:00</td>\n",
              "      <td>AV City</td>\n",
              "      <td>38.550000</td>\n",
              "      <td>Turista</td>\n",
              "      <td>Promo</td>\n",
              "      <td>5</td>\n",
              "      <td>31</td>\n",
              "      <td>Friday</td>\n",
              "      <td>4</td>\n",
              "      <td>19</td>\n",
              "      <td>6</td>\n",
              "      <td>20</td>\n",
              "      <td>Wednesday</td>\n",
              "      <td>5</td>\n",
              "      <td>29</td>\n",
              "      <td>9</td>\n",
              "      <td>16</td>\n",
              "      <td>Wednesday</td>\n",
              "      <td>5</td>\n",
              "      <td>29</td>\n",
              "      <td>Yes</td>\n",
              "    </tr>\n",
              "    <tr>\n",
              "      <th>1</th>\n",
              "      <td>2019-04-19 05:31:43</td>\n",
              "      <td>MADRID</td>\n",
              "      <td>SEVILLA</td>\n",
              "      <td>2019-05-29 07:00:00</td>\n",
              "      <td>2019-05-29 09:32:00</td>\n",
              "      <td>AVE</td>\n",
              "      <td>53.400000</td>\n",
              "      <td>Turista</td>\n",
              "      <td>Promo</td>\n",
              "      <td>5</td>\n",
              "      <td>31</td>\n",
              "      <td>Friday</td>\n",
              "      <td>4</td>\n",
              "      <td>19</td>\n",
              "      <td>7</td>\n",
              "      <td>0</td>\n",
              "      <td>Wednesday</td>\n",
              "      <td>5</td>\n",
              "      <td>29</td>\n",
              "      <td>9</td>\n",
              "      <td>32</td>\n",
              "      <td>Wednesday</td>\n",
              "      <td>5</td>\n",
              "      <td>29</td>\n",
              "      <td>Yes</td>\n",
              "    </tr>\n",
              "    <tr>\n",
              "      <th>2</th>\n",
              "      <td>2019-04-19 05:31:43</td>\n",
              "      <td>MADRID</td>\n",
              "      <td>SEVILLA</td>\n",
              "      <td>2019-05-29 07:30:00</td>\n",
              "      <td>2019-05-29 09:51:00</td>\n",
              "      <td>AVE</td>\n",
              "      <td>47.300000</td>\n",
              "      <td>Turista</td>\n",
              "      <td>Promo</td>\n",
              "      <td>5</td>\n",
              "      <td>31</td>\n",
              "      <td>Friday</td>\n",
              "      <td>4</td>\n",
              "      <td>19</td>\n",
              "      <td>7</td>\n",
              "      <td>30</td>\n",
              "      <td>Wednesday</td>\n",
              "      <td>5</td>\n",
              "      <td>29</td>\n",
              "      <td>9</td>\n",
              "      <td>51</td>\n",
              "      <td>Wednesday</td>\n",
              "      <td>5</td>\n",
              "      <td>29</td>\n",
              "      <td>Yes</td>\n",
              "    </tr>\n",
              "    <tr>\n",
              "      <th>3</th>\n",
              "      <td>2019-04-19 05:31:43</td>\n",
              "      <td>MADRID</td>\n",
              "      <td>SEVILLA</td>\n",
              "      <td>2019-05-29 08:00:00</td>\n",
              "      <td>2019-05-29 10:32:00</td>\n",
              "      <td>AVE</td>\n",
              "      <td>69.400000</td>\n",
              "      <td>Preferente</td>\n",
              "      <td>Promo</td>\n",
              "      <td>5</td>\n",
              "      <td>31</td>\n",
              "      <td>Friday</td>\n",
              "      <td>4</td>\n",
              "      <td>19</td>\n",
              "      <td>8</td>\n",
              "      <td>0</td>\n",
              "      <td>Wednesday</td>\n",
              "      <td>5</td>\n",
              "      <td>29</td>\n",
              "      <td>10</td>\n",
              "      <td>32</td>\n",
              "      <td>Wednesday</td>\n",
              "      <td>5</td>\n",
              "      <td>29</td>\n",
              "      <td>Yes</td>\n",
              "    </tr>\n",
              "    <tr>\n",
              "      <th>4</th>\n",
              "      <td>2019-04-19 05:31:43</td>\n",
              "      <td>MADRID</td>\n",
              "      <td>SEVILLA</td>\n",
              "      <td>2019-05-29 08:30:00</td>\n",
              "      <td>2019-05-29 11:14:00</td>\n",
              "      <td>ALVIA</td>\n",
              "      <td>62.582549</td>\n",
              "      <td>Turista</td>\n",
              "      <td>Promo</td>\n",
              "      <td>5</td>\n",
              "      <td>31</td>\n",
              "      <td>Friday</td>\n",
              "      <td>4</td>\n",
              "      <td>19</td>\n",
              "      <td>8</td>\n",
              "      <td>30</td>\n",
              "      <td>Wednesday</td>\n",
              "      <td>5</td>\n",
              "      <td>29</td>\n",
              "      <td>11</td>\n",
              "      <td>14</td>\n",
              "      <td>Wednesday</td>\n",
              "      <td>5</td>\n",
              "      <td>29</td>\n",
              "      <td>Yes</td>\n",
              "    </tr>\n",
              "  </tbody>\n",
              "</table>\n",
              "</div>"
            ],
            "text/plain": [
              "          insert_date  origin  ... end_date_day is_travelling_end_on_same_day\n",
              "0 2019-04-19 05:31:43  MADRID  ...           29                           Yes\n",
              "1 2019-04-19 05:31:43  MADRID  ...           29                           Yes\n",
              "2 2019-04-19 05:31:43  MADRID  ...           29                           Yes\n",
              "3 2019-04-19 05:31:43  MADRID  ...           29                           Yes\n",
              "4 2019-04-19 05:31:43  MADRID  ...           29                           Yes\n",
              "\n",
              "[5 rows x 25 columns]"
            ]
          },
          "metadata": {
            "tags": []
          },
          "execution_count": 26
        }
      ]
    },
    {
      "cell_type": "code",
      "metadata": {
        "id": "oc0i-5lnUyob",
        "colab_type": "code",
        "colab": {
          "base_uri": "https://localhost:8080/",
          "height": 333
        },
        "outputId": "44a0bc8f-dae2-4f6a-cc6a-bb8e29fe095e"
      },
      "source": [
        "data.corr().style.background_gradient(cmap='coolwarm')"
      ],
      "execution_count": 27,
      "outputs": [
        {
          "output_type": "execute_result",
          "data": {
            "text/html": [
              "<style  type=\"text/css\" >\n",
              "    #T_c907b484_9be2_11e9_9e96_0242ac1c0002row0_col0 {\n",
              "            background-color:  #b40426;\n",
              "            color:  #f1f1f1;\n",
              "        }    #T_c907b484_9be2_11e9_9e96_0242ac1c0002row0_col1 {\n",
              "            background-color:  #4055c8;\n",
              "            color:  #f1f1f1;\n",
              "        }    #T_c907b484_9be2_11e9_9e96_0242ac1c0002row0_col2 {\n",
              "            background-color:  #3b4cc0;\n",
              "            color:  #f1f1f1;\n",
              "        }    #T_c907b484_9be2_11e9_9e96_0242ac1c0002row0_col3 {\n",
              "            background-color:  #cfdaea;\n",
              "            color:  #000000;\n",
              "        }    #T_c907b484_9be2_11e9_9e96_0242ac1c0002row0_col4 {\n",
              "            background-color:  #c7d7f0;\n",
              "            color:  #000000;\n",
              "        }    #T_c907b484_9be2_11e9_9e96_0242ac1c0002row0_col5 {\n",
              "            background-color:  #688aef;\n",
              "            color:  #000000;\n",
              "        }    #T_c907b484_9be2_11e9_9e96_0242ac1c0002row0_col6 {\n",
              "            background-color:  #3b4cc0;\n",
              "            color:  #f1f1f1;\n",
              "        }    #T_c907b484_9be2_11e9_9e96_0242ac1c0002row0_col7 {\n",
              "            background-color:  #80a3fa;\n",
              "            color:  #000000;\n",
              "        }    #T_c907b484_9be2_11e9_9e96_0242ac1c0002row0_col8 {\n",
              "            background-color:  #a1c0ff;\n",
              "            color:  #000000;\n",
              "        }    #T_c907b484_9be2_11e9_9e96_0242ac1c0002row0_col9 {\n",
              "            background-color:  #3f53c6;\n",
              "            color:  #f1f1f1;\n",
              "        }    #T_c907b484_9be2_11e9_9e96_0242ac1c0002row0_col10 {\n",
              "            background-color:  #4e68d8;\n",
              "            color:  #000000;\n",
              "        }    #T_c907b484_9be2_11e9_9e96_0242ac1c0002row0_col11 {\n",
              "            background-color:  #80a3fa;\n",
              "            color:  #000000;\n",
              "        }    #T_c907b484_9be2_11e9_9e96_0242ac1c0002row0_col12 {\n",
              "            background-color:  #a1c0ff;\n",
              "            color:  #000000;\n",
              "        }    #T_c907b484_9be2_11e9_9e96_0242ac1c0002row1_col0 {\n",
              "            background-color:  #6c8ff1;\n",
              "            color:  #000000;\n",
              "        }    #T_c907b484_9be2_11e9_9e96_0242ac1c0002row1_col1 {\n",
              "            background-color:  #b40426;\n",
              "            color:  #f1f1f1;\n",
              "        }    #T_c907b484_9be2_11e9_9e96_0242ac1c0002row1_col2 {\n",
              "            background-color:  #3e51c5;\n",
              "            color:  #f1f1f1;\n",
              "        }    #T_c907b484_9be2_11e9_9e96_0242ac1c0002row1_col3 {\n",
              "            background-color:  #ccd9ed;\n",
              "            color:  #000000;\n",
              "        }    #T_c907b484_9be2_11e9_9e96_0242ac1c0002row1_col4 {\n",
              "            background-color:  #c7d7f0;\n",
              "            color:  #000000;\n",
              "        }    #T_c907b484_9be2_11e9_9e96_0242ac1c0002row1_col5 {\n",
              "            background-color:  #516ddb;\n",
              "            color:  #000000;\n",
              "        }    #T_c907b484_9be2_11e9_9e96_0242ac1c0002row1_col6 {\n",
              "            background-color:  #6c8ff1;\n",
              "            color:  #000000;\n",
              "        }    #T_c907b484_9be2_11e9_9e96_0242ac1c0002row1_col7 {\n",
              "            background-color:  #a6c4fe;\n",
              "            color:  #000000;\n",
              "        }    #T_c907b484_9be2_11e9_9e96_0242ac1c0002row1_col8 {\n",
              "            background-color:  #a3c2fe;\n",
              "            color:  #000000;\n",
              "        }    #T_c907b484_9be2_11e9_9e96_0242ac1c0002row1_col9 {\n",
              "            background-color:  #3f53c6;\n",
              "            color:  #f1f1f1;\n",
              "        }    #T_c907b484_9be2_11e9_9e96_0242ac1c0002row1_col10 {\n",
              "            background-color:  #5673e0;\n",
              "            color:  #000000;\n",
              "        }    #T_c907b484_9be2_11e9_9e96_0242ac1c0002row1_col11 {\n",
              "            background-color:  #a6c4fe;\n",
              "            color:  #000000;\n",
              "        }    #T_c907b484_9be2_11e9_9e96_0242ac1c0002row1_col12 {\n",
              "            background-color:  #a3c2fe;\n",
              "            color:  #000000;\n",
              "        }    #T_c907b484_9be2_11e9_9e96_0242ac1c0002row2_col0 {\n",
              "            background-color:  #6788ee;\n",
              "            color:  #000000;\n",
              "        }    #T_c907b484_9be2_11e9_9e96_0242ac1c0002row2_col1 {\n",
              "            background-color:  #3e51c5;\n",
              "            color:  #f1f1f1;\n",
              "        }    #T_c907b484_9be2_11e9_9e96_0242ac1c0002row2_col2 {\n",
              "            background-color:  #b40426;\n",
              "            color:  #f1f1f1;\n",
              "        }    #T_c907b484_9be2_11e9_9e96_0242ac1c0002row2_col3 {\n",
              "            background-color:  #d4dbe6;\n",
              "            color:  #000000;\n",
              "        }    #T_c907b484_9be2_11e9_9e96_0242ac1c0002row2_col4 {\n",
              "            background-color:  #cfdaea;\n",
              "            color:  #000000;\n",
              "        }    #T_c907b484_9be2_11e9_9e96_0242ac1c0002row2_col5 {\n",
              "            background-color:  #506bda;\n",
              "            color:  #000000;\n",
              "        }    #T_c907b484_9be2_11e9_9e96_0242ac1c0002row2_col6 {\n",
              "            background-color:  #7da0f9;\n",
              "            color:  #000000;\n",
              "        }    #T_c907b484_9be2_11e9_9e96_0242ac1c0002row2_col7 {\n",
              "            background-color:  #a7c5fe;\n",
              "            color:  #000000;\n",
              "        }    #T_c907b484_9be2_11e9_9e96_0242ac1c0002row2_col8 {\n",
              "            background-color:  #9fbfff;\n",
              "            color:  #000000;\n",
              "        }    #T_c907b484_9be2_11e9_9e96_0242ac1c0002row2_col9 {\n",
              "            background-color:  #465ecf;\n",
              "            color:  #f1f1f1;\n",
              "        }    #T_c907b484_9be2_11e9_9e96_0242ac1c0002row2_col10 {\n",
              "            background-color:  #5572df;\n",
              "            color:  #000000;\n",
              "        }    #T_c907b484_9be2_11e9_9e96_0242ac1c0002row2_col11 {\n",
              "            background-color:  #a7c5fe;\n",
              "            color:  #000000;\n",
              "        }    #T_c907b484_9be2_11e9_9e96_0242ac1c0002row2_col12 {\n",
              "            background-color:  #9fbfff;\n",
              "            color:  #000000;\n",
              "        }    #T_c907b484_9be2_11e9_9e96_0242ac1c0002row3_col0 {\n",
              "            background-color:  #7396f5;\n",
              "            color:  #000000;\n",
              "        }    #T_c907b484_9be2_11e9_9e96_0242ac1c0002row3_col1 {\n",
              "            background-color:  #4055c8;\n",
              "            color:  #f1f1f1;\n",
              "        }    #T_c907b484_9be2_11e9_9e96_0242ac1c0002row3_col2 {\n",
              "            background-color:  #506bda;\n",
              "            color:  #000000;\n",
              "        }    #T_c907b484_9be2_11e9_9e96_0242ac1c0002row3_col3 {\n",
              "            background-color:  #b40426;\n",
              "            color:  #f1f1f1;\n",
              "        }    #T_c907b484_9be2_11e9_9e96_0242ac1c0002row3_col4 {\n",
              "            background-color:  #3b4cc0;\n",
              "            color:  #f1f1f1;\n",
              "        }    #T_c907b484_9be2_11e9_9e96_0242ac1c0002row3_col5 {\n",
              "            background-color:  #4e68d8;\n",
              "            color:  #000000;\n",
              "        }    #T_c907b484_9be2_11e9_9e96_0242ac1c0002row3_col6 {\n",
              "            background-color:  #6788ee;\n",
              "            color:  #000000;\n",
              "        }    #T_c907b484_9be2_11e9_9e96_0242ac1c0002row3_col7 {\n",
              "            background-color:  #e7d7ce;\n",
              "            color:  #000000;\n",
              "        }    #T_c907b484_9be2_11e9_9e96_0242ac1c0002row3_col8 {\n",
              "            background-color:  #98b9ff;\n",
              "            color:  #000000;\n",
              "        }    #T_c907b484_9be2_11e9_9e96_0242ac1c0002row3_col9 {\n",
              "            background-color:  #3e51c5;\n",
              "            color:  #f1f1f1;\n",
              "        }    #T_c907b484_9be2_11e9_9e96_0242ac1c0002row3_col10 {\n",
              "            background-color:  #5572df;\n",
              "            color:  #000000;\n",
              "        }    #T_c907b484_9be2_11e9_9e96_0242ac1c0002row3_col11 {\n",
              "            background-color:  #e7d7ce;\n",
              "            color:  #000000;\n",
              "        }    #T_c907b484_9be2_11e9_9e96_0242ac1c0002row3_col12 {\n",
              "            background-color:  #9abbff;\n",
              "            color:  #000000;\n",
              "        }    #T_c907b484_9be2_11e9_9e96_0242ac1c0002row4_col0 {\n",
              "            background-color:  #6687ed;\n",
              "            color:  #000000;\n",
              "        }    #T_c907b484_9be2_11e9_9e96_0242ac1c0002row4_col1 {\n",
              "            background-color:  #3b4cc0;\n",
              "            color:  #f1f1f1;\n",
              "        }    #T_c907b484_9be2_11e9_9e96_0242ac1c0002row4_col2 {\n",
              "            background-color:  #485fd1;\n",
              "            color:  #f1f1f1;\n",
              "        }    #T_c907b484_9be2_11e9_9e96_0242ac1c0002row4_col3 {\n",
              "            background-color:  #3b4cc0;\n",
              "            color:  #f1f1f1;\n",
              "        }    #T_c907b484_9be2_11e9_9e96_0242ac1c0002row4_col4 {\n",
              "            background-color:  #b40426;\n",
              "            color:  #f1f1f1;\n",
              "        }    #T_c907b484_9be2_11e9_9e96_0242ac1c0002row4_col5 {\n",
              "            background-color:  #516ddb;\n",
              "            color:  #000000;\n",
              "        }    #T_c907b484_9be2_11e9_9e96_0242ac1c0002row4_col6 {\n",
              "            background-color:  #6f92f3;\n",
              "            color:  #000000;\n",
              "        }    #T_c907b484_9be2_11e9_9e96_0242ac1c0002row4_col7 {\n",
              "            background-color:  #82a6fb;\n",
              "            color:  #000000;\n",
              "        }    #T_c907b484_9be2_11e9_9e96_0242ac1c0002row4_col8 {\n",
              "            background-color:  #a6c4fe;\n",
              "            color:  #000000;\n",
              "        }    #T_c907b484_9be2_11e9_9e96_0242ac1c0002row4_col9 {\n",
              "            background-color:  #4055c8;\n",
              "            color:  #f1f1f1;\n",
              "        }    #T_c907b484_9be2_11e9_9e96_0242ac1c0002row4_col10 {\n",
              "            background-color:  #5673e0;\n",
              "            color:  #000000;\n",
              "        }    #T_c907b484_9be2_11e9_9e96_0242ac1c0002row4_col11 {\n",
              "            background-color:  #82a6fb;\n",
              "            color:  #000000;\n",
              "        }    #T_c907b484_9be2_11e9_9e96_0242ac1c0002row4_col12 {\n",
              "            background-color:  #a6c4fe;\n",
              "            color:  #000000;\n",
              "        }    #T_c907b484_9be2_11e9_9e96_0242ac1c0002row5_col0 {\n",
              "            background-color:  #82a6fb;\n",
              "            color:  #000000;\n",
              "        }    #T_c907b484_9be2_11e9_9e96_0242ac1c0002row5_col1 {\n",
              "            background-color:  #4055c8;\n",
              "            color:  #f1f1f1;\n",
              "        }    #T_c907b484_9be2_11e9_9e96_0242ac1c0002row5_col2 {\n",
              "            background-color:  #3f53c6;\n",
              "            color:  #f1f1f1;\n",
              "        }    #T_c907b484_9be2_11e9_9e96_0242ac1c0002row5_col3 {\n",
              "            background-color:  #cad8ef;\n",
              "            color:  #000000;\n",
              "        }    #T_c907b484_9be2_11e9_9e96_0242ac1c0002row5_col4 {\n",
              "            background-color:  #ccd9ed;\n",
              "            color:  #000000;\n",
              "        }    #T_c907b484_9be2_11e9_9e96_0242ac1c0002row5_col5 {\n",
              "            background-color:  #b40426;\n",
              "            color:  #f1f1f1;\n",
              "        }    #T_c907b484_9be2_11e9_9e96_0242ac1c0002row5_col6 {\n",
              "            background-color:  #5673e0;\n",
              "            color:  #000000;\n",
              "        }    #T_c907b484_9be2_11e9_9e96_0242ac1c0002row5_col7 {\n",
              "            background-color:  #9ebeff;\n",
              "            color:  #000000;\n",
              "        }    #T_c907b484_9be2_11e9_9e96_0242ac1c0002row5_col8 {\n",
              "            background-color:  #a1c0ff;\n",
              "            color:  #000000;\n",
              "        }    #T_c907b484_9be2_11e9_9e96_0242ac1c0002row5_col9 {\n",
              "            background-color:  #f59d7e;\n",
              "            color:  #000000;\n",
              "        }    #T_c907b484_9be2_11e9_9e96_0242ac1c0002row5_col10 {\n",
              "            background-color:  #5d7ce6;\n",
              "            color:  #000000;\n",
              "        }    #T_c907b484_9be2_11e9_9e96_0242ac1c0002row5_col11 {\n",
              "            background-color:  #9ebeff;\n",
              "            color:  #000000;\n",
              "        }    #T_c907b484_9be2_11e9_9e96_0242ac1c0002row5_col12 {\n",
              "            background-color:  #a1c0ff;\n",
              "            color:  #000000;\n",
              "        }    #T_c907b484_9be2_11e9_9e96_0242ac1c0002row6_col0 {\n",
              "            background-color:  #3b4cc0;\n",
              "            color:  #f1f1f1;\n",
              "        }    #T_c907b484_9be2_11e9_9e96_0242ac1c0002row6_col1 {\n",
              "            background-color:  #3f53c6;\n",
              "            color:  #f1f1f1;\n",
              "        }    #T_c907b484_9be2_11e9_9e96_0242ac1c0002row6_col2 {\n",
              "            background-color:  #516ddb;\n",
              "            color:  #000000;\n",
              "        }    #T_c907b484_9be2_11e9_9e96_0242ac1c0002row6_col3 {\n",
              "            background-color:  #c9d7f0;\n",
              "            color:  #000000;\n",
              "        }    #T_c907b484_9be2_11e9_9e96_0242ac1c0002row6_col4 {\n",
              "            background-color:  #cdd9ec;\n",
              "            color:  #000000;\n",
              "        }    #T_c907b484_9be2_11e9_9e96_0242ac1c0002row6_col5 {\n",
              "            background-color:  #3b4cc0;\n",
              "            color:  #f1f1f1;\n",
              "        }    #T_c907b484_9be2_11e9_9e96_0242ac1c0002row6_col6 {\n",
              "            background-color:  #b40426;\n",
              "            color:  #f1f1f1;\n",
              "        }    #T_c907b484_9be2_11e9_9e96_0242ac1c0002row6_col7 {\n",
              "            background-color:  #a1c0ff;\n",
              "            color:  #000000;\n",
              "        }    #T_c907b484_9be2_11e9_9e96_0242ac1c0002row6_col8 {\n",
              "            background-color:  #a2c1ff;\n",
              "            color:  #000000;\n",
              "        }    #T_c907b484_9be2_11e9_9e96_0242ac1c0002row6_col9 {\n",
              "            background-color:  #4c66d6;\n",
              "            color:  #000000;\n",
              "        }    #T_c907b484_9be2_11e9_9e96_0242ac1c0002row6_col10 {\n",
              "            background-color:  #3b4cc0;\n",
              "            color:  #f1f1f1;\n",
              "        }    #T_c907b484_9be2_11e9_9e96_0242ac1c0002row6_col11 {\n",
              "            background-color:  #a1c0ff;\n",
              "            color:  #000000;\n",
              "        }    #T_c907b484_9be2_11e9_9e96_0242ac1c0002row6_col12 {\n",
              "            background-color:  #a2c1ff;\n",
              "            color:  #000000;\n",
              "        }    #T_c907b484_9be2_11e9_9e96_0242ac1c0002row7_col0 {\n",
              "            background-color:  #455cce;\n",
              "            color:  #f1f1f1;\n",
              "        }    #T_c907b484_9be2_11e9_9e96_0242ac1c0002row7_col1 {\n",
              "            background-color:  #445acc;\n",
              "            color:  #f1f1f1;\n",
              "        }    #T_c907b484_9be2_11e9_9e96_0242ac1c0002row7_col2 {\n",
              "            background-color:  #455cce;\n",
              "            color:  #f1f1f1;\n",
              "        }    #T_c907b484_9be2_11e9_9e96_0242ac1c0002row7_col3 {\n",
              "            background-color:  #f5c4ac;\n",
              "            color:  #000000;\n",
              "        }    #T_c907b484_9be2_11e9_9e96_0242ac1c0002row7_col4 {\n",
              "            background-color:  #b3cdfb;\n",
              "            color:  #000000;\n",
              "        }    #T_c907b484_9be2_11e9_9e96_0242ac1c0002row7_col5 {\n",
              "            background-color:  #4a63d3;\n",
              "            color:  #f1f1f1;\n",
              "        }    #T_c907b484_9be2_11e9_9e96_0242ac1c0002row7_col6 {\n",
              "            background-color:  #6a8bef;\n",
              "            color:  #000000;\n",
              "        }    #T_c907b484_9be2_11e9_9e96_0242ac1c0002row7_col7 {\n",
              "            background-color:  #b40426;\n",
              "            color:  #f1f1f1;\n",
              "        }    #T_c907b484_9be2_11e9_9e96_0242ac1c0002row7_col8 {\n",
              "            background-color:  #3b4cc0;\n",
              "            color:  #f1f1f1;\n",
              "        }    #T_c907b484_9be2_11e9_9e96_0242ac1c0002row7_col9 {\n",
              "            background-color:  #455cce;\n",
              "            color:  #f1f1f1;\n",
              "        }    #T_c907b484_9be2_11e9_9e96_0242ac1c0002row7_col10 {\n",
              "            background-color:  #5470de;\n",
              "            color:  #000000;\n",
              "        }    #T_c907b484_9be2_11e9_9e96_0242ac1c0002row7_col11 {\n",
              "            background-color:  #b40426;\n",
              "            color:  #f1f1f1;\n",
              "        }    #T_c907b484_9be2_11e9_9e96_0242ac1c0002row7_col12 {\n",
              "            background-color:  #3b4cc0;\n",
              "            color:  #f1f1f1;\n",
              "        }    #T_c907b484_9be2_11e9_9e96_0242ac1c0002row8_col0 {\n",
              "            background-color:  #6a8bef;\n",
              "            color:  #000000;\n",
              "        }    #T_c907b484_9be2_11e9_9e96_0242ac1c0002row8_col1 {\n",
              "            background-color:  #4055c8;\n",
              "            color:  #f1f1f1;\n",
              "        }    #T_c907b484_9be2_11e9_9e96_0242ac1c0002row8_col2 {\n",
              "            background-color:  #3c4ec2;\n",
              "            color:  #f1f1f1;\n",
              "        }    #T_c907b484_9be2_11e9_9e96_0242ac1c0002row8_col3 {\n",
              "            background-color:  #c5d6f2;\n",
              "            color:  #000000;\n",
              "        }    #T_c907b484_9be2_11e9_9e96_0242ac1c0002row8_col4 {\n",
              "            background-color:  #cdd9ec;\n",
              "            color:  #000000;\n",
              "        }    #T_c907b484_9be2_11e9_9e96_0242ac1c0002row8_col5 {\n",
              "            background-color:  #4f69d9;\n",
              "            color:  #000000;\n",
              "        }    #T_c907b484_9be2_11e9_9e96_0242ac1c0002row8_col6 {\n",
              "            background-color:  #6c8ff1;\n",
              "            color:  #000000;\n",
              "        }    #T_c907b484_9be2_11e9_9e96_0242ac1c0002row8_col7 {\n",
              "            background-color:  #3b4cc0;\n",
              "            color:  #f1f1f1;\n",
              "        }    #T_c907b484_9be2_11e9_9e96_0242ac1c0002row8_col8 {\n",
              "            background-color:  #b40426;\n",
              "            color:  #f1f1f1;\n",
              "        }    #T_c907b484_9be2_11e9_9e96_0242ac1c0002row8_col9 {\n",
              "            background-color:  #3b4cc0;\n",
              "            color:  #f1f1f1;\n",
              "        }    #T_c907b484_9be2_11e9_9e96_0242ac1c0002row8_col10 {\n",
              "            background-color:  #5b7ae5;\n",
              "            color:  #000000;\n",
              "        }    #T_c907b484_9be2_11e9_9e96_0242ac1c0002row8_col11 {\n",
              "            background-color:  #3b4cc0;\n",
              "            color:  #f1f1f1;\n",
              "        }    #T_c907b484_9be2_11e9_9e96_0242ac1c0002row8_col12 {\n",
              "            background-color:  #b40426;\n",
              "            color:  #f1f1f1;\n",
              "        }    #T_c907b484_9be2_11e9_9e96_0242ac1c0002row9_col0 {\n",
              "            background-color:  #6b8df0;\n",
              "            color:  #000000;\n",
              "        }    #T_c907b484_9be2_11e9_9e96_0242ac1c0002row9_col1 {\n",
              "            background-color:  #4055c8;\n",
              "            color:  #f1f1f1;\n",
              "        }    #T_c907b484_9be2_11e9_9e96_0242ac1c0002row9_col2 {\n",
              "            background-color:  #465ecf;\n",
              "            color:  #f1f1f1;\n",
              "        }    #T_c907b484_9be2_11e9_9e96_0242ac1c0002row9_col3 {\n",
              "            background-color:  #cbd8ee;\n",
              "            color:  #000000;\n",
              "        }    #T_c907b484_9be2_11e9_9e96_0242ac1c0002row9_col4 {\n",
              "            background-color:  #ccd9ed;\n",
              "            color:  #000000;\n",
              "        }    #T_c907b484_9be2_11e9_9e96_0242ac1c0002row9_col5 {\n",
              "            background-color:  #f4987a;\n",
              "            color:  #000000;\n",
              "        }    #T_c907b484_9be2_11e9_9e96_0242ac1c0002row9_col6 {\n",
              "            background-color:  #799cf8;\n",
              "            color:  #000000;\n",
              "        }    #T_c907b484_9be2_11e9_9e96_0242ac1c0002row9_col7 {\n",
              "            background-color:  #a7c5fe;\n",
              "            color:  #000000;\n",
              "        }    #T_c907b484_9be2_11e9_9e96_0242ac1c0002row9_col8 {\n",
              "            background-color:  #9ebeff;\n",
              "            color:  #000000;\n",
              "        }    #T_c907b484_9be2_11e9_9e96_0242ac1c0002row9_col9 {\n",
              "            background-color:  #b40426;\n",
              "            color:  #f1f1f1;\n",
              "        }    #T_c907b484_9be2_11e9_9e96_0242ac1c0002row9_col10 {\n",
              "            background-color:  #688aef;\n",
              "            color:  #000000;\n",
              "        }    #T_c907b484_9be2_11e9_9e96_0242ac1c0002row9_col11 {\n",
              "            background-color:  #a6c4fe;\n",
              "            color:  #000000;\n",
              "        }    #T_c907b484_9be2_11e9_9e96_0242ac1c0002row9_col12 {\n",
              "            background-color:  #9ebeff;\n",
              "            color:  #000000;\n",
              "        }    #T_c907b484_9be2_11e9_9e96_0242ac1c0002row10_col0 {\n",
              "            background-color:  #6687ed;\n",
              "            color:  #000000;\n",
              "        }    #T_c907b484_9be2_11e9_9e96_0242ac1c0002row10_col1 {\n",
              "            background-color:  #4055c8;\n",
              "            color:  #f1f1f1;\n",
              "        }    #T_c907b484_9be2_11e9_9e96_0242ac1c0002row10_col2 {\n",
              "            background-color:  #3f53c6;\n",
              "            color:  #f1f1f1;\n",
              "        }    #T_c907b484_9be2_11e9_9e96_0242ac1c0002row10_col3 {\n",
              "            background-color:  #cbd8ee;\n",
              "            color:  #000000;\n",
              "        }    #T_c907b484_9be2_11e9_9e96_0242ac1c0002row10_col4 {\n",
              "            background-color:  #ccd9ed;\n",
              "            color:  #000000;\n",
              "        }    #T_c907b484_9be2_11e9_9e96_0242ac1c0002row10_col5 {\n",
              "            background-color:  #5977e3;\n",
              "            color:  #000000;\n",
              "        }    #T_c907b484_9be2_11e9_9e96_0242ac1c0002row10_col6 {\n",
              "            background-color:  #516ddb;\n",
              "            color:  #000000;\n",
              "        }    #T_c907b484_9be2_11e9_9e96_0242ac1c0002row10_col7 {\n",
              "            background-color:  #a2c1ff;\n",
              "            color:  #000000;\n",
              "        }    #T_c907b484_9be2_11e9_9e96_0242ac1c0002row10_col8 {\n",
              "            background-color:  #a9c6fd;\n",
              "            color:  #000000;\n",
              "        }    #T_c907b484_9be2_11e9_9e96_0242ac1c0002row10_col9 {\n",
              "            background-color:  #5470de;\n",
              "            color:  #000000;\n",
              "        }    #T_c907b484_9be2_11e9_9e96_0242ac1c0002row10_col10 {\n",
              "            background-color:  #b40426;\n",
              "            color:  #f1f1f1;\n",
              "        }    #T_c907b484_9be2_11e9_9e96_0242ac1c0002row10_col11 {\n",
              "            background-color:  #a1c0ff;\n",
              "            color:  #000000;\n",
              "        }    #T_c907b484_9be2_11e9_9e96_0242ac1c0002row10_col12 {\n",
              "            background-color:  #a9c6fd;\n",
              "            color:  #000000;\n",
              "        }    #T_c907b484_9be2_11e9_9e96_0242ac1c0002row11_col0 {\n",
              "            background-color:  #455cce;\n",
              "            color:  #f1f1f1;\n",
              "        }    #T_c907b484_9be2_11e9_9e96_0242ac1c0002row11_col1 {\n",
              "            background-color:  #445acc;\n",
              "            color:  #f1f1f1;\n",
              "        }    #T_c907b484_9be2_11e9_9e96_0242ac1c0002row11_col2 {\n",
              "            background-color:  #455cce;\n",
              "            color:  #f1f1f1;\n",
              "        }    #T_c907b484_9be2_11e9_9e96_0242ac1c0002row11_col3 {\n",
              "            background-color:  #f5c4ac;\n",
              "            color:  #000000;\n",
              "        }    #T_c907b484_9be2_11e9_9e96_0242ac1c0002row11_col4 {\n",
              "            background-color:  #b3cdfb;\n",
              "            color:  #000000;\n",
              "        }    #T_c907b484_9be2_11e9_9e96_0242ac1c0002row11_col5 {\n",
              "            background-color:  #4b64d5;\n",
              "            color:  #f1f1f1;\n",
              "        }    #T_c907b484_9be2_11e9_9e96_0242ac1c0002row11_col6 {\n",
              "            background-color:  #6a8bef;\n",
              "            color:  #000000;\n",
              "        }    #T_c907b484_9be2_11e9_9e96_0242ac1c0002row11_col7 {\n",
              "            background-color:  #b40426;\n",
              "            color:  #f1f1f1;\n",
              "        }    #T_c907b484_9be2_11e9_9e96_0242ac1c0002row11_col8 {\n",
              "            background-color:  #3b4cc0;\n",
              "            color:  #f1f1f1;\n",
              "        }    #T_c907b484_9be2_11e9_9e96_0242ac1c0002row11_col9 {\n",
              "            background-color:  #445acc;\n",
              "            color:  #f1f1f1;\n",
              "        }    #T_c907b484_9be2_11e9_9e96_0242ac1c0002row11_col10 {\n",
              "            background-color:  #5470de;\n",
              "            color:  #000000;\n",
              "        }    #T_c907b484_9be2_11e9_9e96_0242ac1c0002row11_col11 {\n",
              "            background-color:  #b40426;\n",
              "            color:  #f1f1f1;\n",
              "        }    #T_c907b484_9be2_11e9_9e96_0242ac1c0002row11_col12 {\n",
              "            background-color:  #3b4cc0;\n",
              "            color:  #f1f1f1;\n",
              "        }    #T_c907b484_9be2_11e9_9e96_0242ac1c0002row12_col0 {\n",
              "            background-color:  #6a8bef;\n",
              "            color:  #000000;\n",
              "        }    #T_c907b484_9be2_11e9_9e96_0242ac1c0002row12_col1 {\n",
              "            background-color:  #4055c8;\n",
              "            color:  #f1f1f1;\n",
              "        }    #T_c907b484_9be2_11e9_9e96_0242ac1c0002row12_col2 {\n",
              "            background-color:  #3d50c3;\n",
              "            color:  #f1f1f1;\n",
              "        }    #T_c907b484_9be2_11e9_9e96_0242ac1c0002row12_col3 {\n",
              "            background-color:  #c5d6f2;\n",
              "            color:  #000000;\n",
              "        }    #T_c907b484_9be2_11e9_9e96_0242ac1c0002row12_col4 {\n",
              "            background-color:  #cdd9ec;\n",
              "            color:  #000000;\n",
              "        }    #T_c907b484_9be2_11e9_9e96_0242ac1c0002row12_col5 {\n",
              "            background-color:  #4e68d8;\n",
              "            color:  #000000;\n",
              "        }    #T_c907b484_9be2_11e9_9e96_0242ac1c0002row12_col6 {\n",
              "            background-color:  #6c8ff1;\n",
              "            color:  #000000;\n",
              "        }    #T_c907b484_9be2_11e9_9e96_0242ac1c0002row12_col7 {\n",
              "            background-color:  #3b4cc0;\n",
              "            color:  #f1f1f1;\n",
              "        }    #T_c907b484_9be2_11e9_9e96_0242ac1c0002row12_col8 {\n",
              "            background-color:  #b40426;\n",
              "            color:  #f1f1f1;\n",
              "        }    #T_c907b484_9be2_11e9_9e96_0242ac1c0002row12_col9 {\n",
              "            background-color:  #3b4cc0;\n",
              "            color:  #f1f1f1;\n",
              "        }    #T_c907b484_9be2_11e9_9e96_0242ac1c0002row12_col10 {\n",
              "            background-color:  #5d7ce6;\n",
              "            color:  #000000;\n",
              "        }    #T_c907b484_9be2_11e9_9e96_0242ac1c0002row12_col11 {\n",
              "            background-color:  #3b4cc0;\n",
              "            color:  #f1f1f1;\n",
              "        }    #T_c907b484_9be2_11e9_9e96_0242ac1c0002row12_col12 {\n",
              "            background-color:  #b40426;\n",
              "            color:  #f1f1f1;\n",
              "        }</style><table id=\"T_c907b484_9be2_11e9_9e96_0242ac1c0002\" ><thead>    <tr>        <th class=\"blank level0\" ></th>        <th class=\"col_heading level0 col0\" >price</th>        <th class=\"col_heading level0 col1\" >insert_date_hour</th>        <th class=\"col_heading level0 col2\" >insert_date_minute</th>        <th class=\"col_heading level0 col3\" >insert_date_month</th>        <th class=\"col_heading level0 col4\" >insert_date_day</th>        <th class=\"col_heading level0 col5\" >start_date_hour</th>        <th class=\"col_heading level0 col6\" >start_date_minute</th>        <th class=\"col_heading level0 col7\" >start_date_month</th>        <th class=\"col_heading level0 col8\" >start_date_day</th>        <th class=\"col_heading level0 col9\" >end_date_hour</th>        <th class=\"col_heading level0 col10\" >end_date_minute</th>        <th class=\"col_heading level0 col11\" >end_date_month</th>        <th class=\"col_heading level0 col12\" >end_date_day</th>    </tr></thead><tbody>\n",
              "                <tr>\n",
              "                        <th id=\"T_c907b484_9be2_11e9_9e96_0242ac1c0002level0_row0\" class=\"row_heading level0 row0\" >price</th>\n",
              "                        <td id=\"T_c907b484_9be2_11e9_9e96_0242ac1c0002row0_col0\" class=\"data row0 col0\" >1</td>\n",
              "                        <td id=\"T_c907b484_9be2_11e9_9e96_0242ac1c0002row0_col1\" class=\"data row0 col1\" >-0.000440521</td>\n",
              "                        <td id=\"T_c907b484_9be2_11e9_9e96_0242ac1c0002row0_col2\" class=\"data row0 col2\" >-0.0219443</td>\n",
              "                        <td id=\"T_c907b484_9be2_11e9_9e96_0242ac1c0002row0_col3\" class=\"data row0 col3\" >0.0212305</td>\n",
              "                        <td id=\"T_c907b484_9be2_11e9_9e96_0242ac1c0002row0_col4\" class=\"data row0 col4\" >-0.0238073</td>\n",
              "                        <td id=\"T_c907b484_9be2_11e9_9e96_0242ac1c0002row0_col5\" class=\"data row0 col5\" >0.074878</td>\n",
              "                        <td id=\"T_c907b484_9be2_11e9_9e96_0242ac1c0002row0_col6\" class=\"data row0 col6\" >-0.18934</td>\n",
              "                        <td id=\"T_c907b484_9be2_11e9_9e96_0242ac1c0002row0_col7\" class=\"data row0 col7\" >-0.145988</td>\n",
              "                        <td id=\"T_c907b484_9be2_11e9_9e96_0242ac1c0002row0_col8\" class=\"data row0 col8\" >-0.0102967</td>\n",
              "                        <td id=\"T_c907b484_9be2_11e9_9e96_0242ac1c0002row0_col9\" class=\"data row0 col9\" >-0.00377962</td>\n",
              "                        <td id=\"T_c907b484_9be2_11e9_9e96_0242ac1c0002row0_col10\" class=\"data row0 col10\" >-0.0261819</td>\n",
              "                        <td id=\"T_c907b484_9be2_11e9_9e96_0242ac1c0002row0_col11\" class=\"data row0 col11\" >-0.146235</td>\n",
              "                        <td id=\"T_c907b484_9be2_11e9_9e96_0242ac1c0002row0_col12\" class=\"data row0 col12\" >-0.0104087</td>\n",
              "            </tr>\n",
              "            <tr>\n",
              "                        <th id=\"T_c907b484_9be2_11e9_9e96_0242ac1c0002level0_row1\" class=\"row_heading level0 row1\" >insert_date_hour</th>\n",
              "                        <td id=\"T_c907b484_9be2_11e9_9e96_0242ac1c0002row1_col0\" class=\"data row1 col0\" >-0.000440521</td>\n",
              "                        <td id=\"T_c907b484_9be2_11e9_9e96_0242ac1c0002row1_col1\" class=\"data row1 col1\" >1</td>\n",
              "                        <td id=\"T_c907b484_9be2_11e9_9e96_0242ac1c0002row1_col2\" class=\"data row1 col2\" >-0.00823412</td>\n",
              "                        <td id=\"T_c907b484_9be2_11e9_9e96_0242ac1c0002row1_col3\" class=\"data row1 col3\" >0.00197507</td>\n",
              "                        <td id=\"T_c907b484_9be2_11e9_9e96_0242ac1c0002row1_col4\" class=\"data row1 col4\" >-0.0218855</td>\n",
              "                        <td id=\"T_c907b484_9be2_11e9_9e96_0242ac1c0002row1_col5\" class=\"data row1 col5\" >-0.00103866</td>\n",
              "                        <td id=\"T_c907b484_9be2_11e9_9e96_0242ac1c0002row1_col6\" class=\"data row1 col6\" >-0.00229371</td>\n",
              "                        <td id=\"T_c907b484_9be2_11e9_9e96_0242ac1c0002row1_col7\" class=\"data row1 col7\" >0.012294</td>\n",
              "                        <td id=\"T_c907b484_9be2_11e9_9e96_0242ac1c0002row1_col8\" class=\"data row1 col8\" >-0.000760426</td>\n",
              "                        <td id=\"T_c907b484_9be2_11e9_9e96_0242ac1c0002row1_col9\" class=\"data row1 col9\" >-0.00114136</td>\n",
              "                        <td id=\"T_c907b484_9be2_11e9_9e96_0242ac1c0002row1_col10\" class=\"data row1 col10\" >0.000722572</td>\n",
              "                        <td id=\"T_c907b484_9be2_11e9_9e96_0242ac1c0002row1_col11\" class=\"data row1 col11\" >0.0123035</td>\n",
              "                        <td id=\"T_c907b484_9be2_11e9_9e96_0242ac1c0002row1_col12\" class=\"data row1 col12\" >-0.000760913</td>\n",
              "            </tr>\n",
              "            <tr>\n",
              "                        <th id=\"T_c907b484_9be2_11e9_9e96_0242ac1c0002level0_row2\" class=\"row_heading level0 row2\" >insert_date_minute</th>\n",
              "                        <td id=\"T_c907b484_9be2_11e9_9e96_0242ac1c0002row2_col0\" class=\"data row2 col0\" >-0.0219443</td>\n",
              "                        <td id=\"T_c907b484_9be2_11e9_9e96_0242ac1c0002row2_col1\" class=\"data row2 col1\" >-0.00823412</td>\n",
              "                        <td id=\"T_c907b484_9be2_11e9_9e96_0242ac1c0002row2_col2\" class=\"data row2 col2\" >1</td>\n",
              "                        <td id=\"T_c907b484_9be2_11e9_9e96_0242ac1c0002row2_col3\" class=\"data row2 col3\" >0.0529708</td>\n",
              "                        <td id=\"T_c907b484_9be2_11e9_9e96_0242ac1c0002row2_col4\" class=\"data row2 col4\" >0.0223604</td>\n",
              "                        <td id=\"T_c907b484_9be2_11e9_9e96_0242ac1c0002row2_col5\" class=\"data row2 col5\" >-0.00516528</td>\n",
              "                        <td id=\"T_c907b484_9be2_11e9_9e96_0242ac1c0002row2_col6\" class=\"data row2 col6\" >0.0552954</td>\n",
              "                        <td id=\"T_c907b484_9be2_11e9_9e96_0242ac1c0002row2_col7\" class=\"data row2 col7\" >0.0173344</td>\n",
              "                        <td id=\"T_c907b484_9be2_11e9_9e96_0242ac1c0002row2_col8\" class=\"data row2 col8\" >-0.0140321</td>\n",
              "                        <td id=\"T_c907b484_9be2_11e9_9e96_0242ac1c0002row2_col9\" class=\"data row2 col9\" >0.0195436</td>\n",
              "                        <td id=\"T_c907b484_9be2_11e9_9e96_0242ac1c0002row2_col10\" class=\"data row2 col10\" >-0.00225393</td>\n",
              "                        <td id=\"T_c907b484_9be2_11e9_9e96_0242ac1c0002row2_col11\" class=\"data row2 col11\" >0.0171188</td>\n",
              "                        <td id=\"T_c907b484_9be2_11e9_9e96_0242ac1c0002row2_col12\" class=\"data row2 col12\" >-0.0139071</td>\n",
              "            </tr>\n",
              "            <tr>\n",
              "                        <th id=\"T_c907b484_9be2_11e9_9e96_0242ac1c0002level0_row3\" class=\"row_heading level0 row3\" >insert_date_month</th>\n",
              "                        <td id=\"T_c907b484_9be2_11e9_9e96_0242ac1c0002row3_col0\" class=\"data row3 col0\" >0.0212305</td>\n",
              "                        <td id=\"T_c907b484_9be2_11e9_9e96_0242ac1c0002row3_col1\" class=\"data row3 col1\" >0.00197507</td>\n",
              "                        <td id=\"T_c907b484_9be2_11e9_9e96_0242ac1c0002row3_col2\" class=\"data row3 col2\" >0.0529708</td>\n",
              "                        <td id=\"T_c907b484_9be2_11e9_9e96_0242ac1c0002row3_col3\" class=\"data row3 col3\" >1</td>\n",
              "                        <td id=\"T_c907b484_9be2_11e9_9e96_0242ac1c0002row3_col4\" class=\"data row3 col4\" >-0.778119</td>\n",
              "                        <td id=\"T_c907b484_9be2_11e9_9e96_0242ac1c0002row3_col5\" class=\"data row3 col5\" >-0.0102299</td>\n",
              "                        <td id=\"T_c907b484_9be2_11e9_9e96_0242ac1c0002row3_col6\" class=\"data row3 col6\" >-0.0182319</td>\n",
              "                        <td id=\"T_c907b484_9be2_11e9_9e96_0242ac1c0002row3_col7\" class=\"data row3 col7\" >0.333571</td>\n",
              "                        <td id=\"T_c907b484_9be2_11e9_9e96_0242ac1c0002row3_col8\" class=\"data row3 col8\" >-0.0417019</td>\n",
              "                        <td id=\"T_c907b484_9be2_11e9_9e96_0242ac1c0002row3_col9\" class=\"data row3 col9\" >-0.00535858</td>\n",
              "                        <td id=\"T_c907b484_9be2_11e9_9e96_0242ac1c0002row3_col10\" class=\"data row3 col10\" >-0.000304721</td>\n",
              "                        <td id=\"T_c907b484_9be2_11e9_9e96_0242ac1c0002row3_col11\" class=\"data row3 col11\" >0.333342</td>\n",
              "                        <td id=\"T_c907b484_9be2_11e9_9e96_0242ac1c0002row3_col12\" class=\"data row3 col12\" >-0.0413458</td>\n",
              "            </tr>\n",
              "            <tr>\n",
              "                        <th id=\"T_c907b484_9be2_11e9_9e96_0242ac1c0002level0_row4\" class=\"row_heading level0 row4\" >insert_date_day</th>\n",
              "                        <td id=\"T_c907b484_9be2_11e9_9e96_0242ac1c0002row4_col0\" class=\"data row4 col0\" >-0.0238073</td>\n",
              "                        <td id=\"T_c907b484_9be2_11e9_9e96_0242ac1c0002row4_col1\" class=\"data row4 col1\" >-0.0218855</td>\n",
              "                        <td id=\"T_c907b484_9be2_11e9_9e96_0242ac1c0002row4_col2\" class=\"data row4 col2\" >0.0223604</td>\n",
              "                        <td id=\"T_c907b484_9be2_11e9_9e96_0242ac1c0002row4_col3\" class=\"data row4 col3\" >-0.778119</td>\n",
              "                        <td id=\"T_c907b484_9be2_11e9_9e96_0242ac1c0002row4_col4\" class=\"data row4 col4\" >1</td>\n",
              "                        <td id=\"T_c907b484_9be2_11e9_9e96_0242ac1c0002row4_col5\" class=\"data row4 col5\" >0.000778626</td>\n",
              "                        <td id=\"T_c907b484_9be2_11e9_9e96_0242ac1c0002row4_col6\" class=\"data row4 col6\" >0.00712508</td>\n",
              "                        <td id=\"T_c907b484_9be2_11e9_9e96_0242ac1c0002row4_col7\" class=\"data row4 col7\" >-0.136454</td>\n",
              "                        <td id=\"T_c907b484_9be2_11e9_9e96_0242ac1c0002row4_col8\" class=\"data row4 col8\" >0.01096</td>\n",
              "                        <td id=\"T_c907b484_9be2_11e9_9e96_0242ac1c0002row4_col9\" class=\"data row4 col9\" >0.000252189</td>\n",
              "                        <td id=\"T_c907b484_9be2_11e9_9e96_0242ac1c0002row4_col10\" class=\"data row4 col10\" >0.00130504</td>\n",
              "                        <td id=\"T_c907b484_9be2_11e9_9e96_0242ac1c0002row4_col11\" class=\"data row4 col11\" >-0.136178</td>\n",
              "                        <td id=\"T_c907b484_9be2_11e9_9e96_0242ac1c0002row4_col12\" class=\"data row4 col12\" >0.0105265</td>\n",
              "            </tr>\n",
              "            <tr>\n",
              "                        <th id=\"T_c907b484_9be2_11e9_9e96_0242ac1c0002level0_row5\" class=\"row_heading level0 row5\" >start_date_hour</th>\n",
              "                        <td id=\"T_c907b484_9be2_11e9_9e96_0242ac1c0002row5_col0\" class=\"data row5 col0\" >0.074878</td>\n",
              "                        <td id=\"T_c907b484_9be2_11e9_9e96_0242ac1c0002row5_col1\" class=\"data row5 col1\" >-0.00103866</td>\n",
              "                        <td id=\"T_c907b484_9be2_11e9_9e96_0242ac1c0002row5_col2\" class=\"data row5 col2\" >-0.00516528</td>\n",
              "                        <td id=\"T_c907b484_9be2_11e9_9e96_0242ac1c0002row5_col3\" class=\"data row5 col3\" >-0.0102299</td>\n",
              "                        <td id=\"T_c907b484_9be2_11e9_9e96_0242ac1c0002row5_col4\" class=\"data row5 col4\" >0.000778626</td>\n",
              "                        <td id=\"T_c907b484_9be2_11e9_9e96_0242ac1c0002row5_col5\" class=\"data row5 col5\" >1</td>\n",
              "                        <td id=\"T_c907b484_9be2_11e9_9e96_0242ac1c0002row5_col6\" class=\"data row5 col6\" >-0.0816266</td>\n",
              "                        <td id=\"T_c907b484_9be2_11e9_9e96_0242ac1c0002row5_col7\" class=\"data row5 col7\" >-0.0225636</td>\n",
              "                        <td id=\"T_c907b484_9be2_11e9_9e96_0242ac1c0002row5_col8\" class=\"data row5 col8\" >-0.0093653</td>\n",
              "                        <td id=\"T_c907b484_9be2_11e9_9e96_0242ac1c0002row5_col9\" class=\"data row5 col9\" >0.733342</td>\n",
              "                        <td id=\"T_c907b484_9be2_11e9_9e96_0242ac1c0002row5_col10\" class=\"data row5 col10\" >0.0248042</td>\n",
              "                        <td id=\"T_c907b484_9be2_11e9_9e96_0242ac1c0002row5_col11\" class=\"data row5 col11\" >-0.0203127</td>\n",
              "                        <td id=\"T_c907b484_9be2_11e9_9e96_0242ac1c0002row5_col12\" class=\"data row5 col12\" >-0.0101405</td>\n",
              "            </tr>\n",
              "            <tr>\n",
              "                        <th id=\"T_c907b484_9be2_11e9_9e96_0242ac1c0002level0_row6\" class=\"row_heading level0 row6\" >start_date_minute</th>\n",
              "                        <td id=\"T_c907b484_9be2_11e9_9e96_0242ac1c0002row6_col0\" class=\"data row6 col0\" >-0.18934</td>\n",
              "                        <td id=\"T_c907b484_9be2_11e9_9e96_0242ac1c0002row6_col1\" class=\"data row6 col1\" >-0.00229371</td>\n",
              "                        <td id=\"T_c907b484_9be2_11e9_9e96_0242ac1c0002row6_col2\" class=\"data row6 col2\" >0.0552954</td>\n",
              "                        <td id=\"T_c907b484_9be2_11e9_9e96_0242ac1c0002row6_col3\" class=\"data row6 col3\" >-0.0182319</td>\n",
              "                        <td id=\"T_c907b484_9be2_11e9_9e96_0242ac1c0002row6_col4\" class=\"data row6 col4\" >0.00712508</td>\n",
              "                        <td id=\"T_c907b484_9be2_11e9_9e96_0242ac1c0002row6_col5\" class=\"data row6 col5\" >-0.0816266</td>\n",
              "                        <td id=\"T_c907b484_9be2_11e9_9e96_0242ac1c0002row6_col6\" class=\"data row6 col6\" >1</td>\n",
              "                        <td id=\"T_c907b484_9be2_11e9_9e96_0242ac1c0002row6_col7\" class=\"data row6 col7\" >-0.00993822</td>\n",
              "                        <td id=\"T_c907b484_9be2_11e9_9e96_0242ac1c0002row6_col8\" class=\"data row6 col8\" >-0.00286976</td>\n",
              "                        <td id=\"T_c907b484_9be2_11e9_9e96_0242ac1c0002row6_col9\" class=\"data row6 col9\" >0.0412657</td>\n",
              "                        <td id=\"T_c907b484_9be2_11e9_9e96_0242ac1c0002row6_col10\" class=\"data row6 col10\" >-0.0988493</td>\n",
              "                        <td id=\"T_c907b484_9be2_11e9_9e96_0242ac1c0002row6_col11\" class=\"data row6 col11\" >-0.0104531</td>\n",
              "                        <td id=\"T_c907b484_9be2_11e9_9e96_0242ac1c0002row6_col12\" class=\"data row6 col12\" >-0.00249307</td>\n",
              "            </tr>\n",
              "            <tr>\n",
              "                        <th id=\"T_c907b484_9be2_11e9_9e96_0242ac1c0002level0_row7\" class=\"row_heading level0 row7\" >start_date_month</th>\n",
              "                        <td id=\"T_c907b484_9be2_11e9_9e96_0242ac1c0002row7_col0\" class=\"data row7 col0\" >-0.145988</td>\n",
              "                        <td id=\"T_c907b484_9be2_11e9_9e96_0242ac1c0002row7_col1\" class=\"data row7 col1\" >0.012294</td>\n",
              "                        <td id=\"T_c907b484_9be2_11e9_9e96_0242ac1c0002row7_col2\" class=\"data row7 col2\" >0.0173344</td>\n",
              "                        <td id=\"T_c907b484_9be2_11e9_9e96_0242ac1c0002row7_col3\" class=\"data row7 col3\" >0.333571</td>\n",
              "                        <td id=\"T_c907b484_9be2_11e9_9e96_0242ac1c0002row7_col4\" class=\"data row7 col4\" >-0.136454</td>\n",
              "                        <td id=\"T_c907b484_9be2_11e9_9e96_0242ac1c0002row7_col5\" class=\"data row7 col5\" >-0.0225636</td>\n",
              "                        <td id=\"T_c907b484_9be2_11e9_9e96_0242ac1c0002row7_col6\" class=\"data row7 col6\" >-0.00993822</td>\n",
              "                        <td id=\"T_c907b484_9be2_11e9_9e96_0242ac1c0002row7_col7\" class=\"data row7 col7\" >1</td>\n",
              "                        <td id=\"T_c907b484_9be2_11e9_9e96_0242ac1c0002row7_col8\" class=\"data row7 col8\" >-0.457119</td>\n",
              "                        <td id=\"T_c907b484_9be2_11e9_9e96_0242ac1c0002row7_col9\" class=\"data row7 col9\" >0.0160979</td>\n",
              "                        <td id=\"T_c907b484_9be2_11e9_9e96_0242ac1c0002row7_col10\" class=\"data row7 col10\" >-0.00685677</td>\n",
              "                        <td id=\"T_c907b484_9be2_11e9_9e96_0242ac1c0002row7_col11\" class=\"data row7 col11\" >0.998793</td>\n",
              "                        <td id=\"T_c907b484_9be2_11e9_9e96_0242ac1c0002row7_col12\" class=\"data row7 col12\" >-0.4554</td>\n",
              "            </tr>\n",
              "            <tr>\n",
              "                        <th id=\"T_c907b484_9be2_11e9_9e96_0242ac1c0002level0_row8\" class=\"row_heading level0 row8\" >start_date_day</th>\n",
              "                        <td id=\"T_c907b484_9be2_11e9_9e96_0242ac1c0002row8_col0\" class=\"data row8 col0\" >-0.0102967</td>\n",
              "                        <td id=\"T_c907b484_9be2_11e9_9e96_0242ac1c0002row8_col1\" class=\"data row8 col1\" >-0.000760426</td>\n",
              "                        <td id=\"T_c907b484_9be2_11e9_9e96_0242ac1c0002row8_col2\" class=\"data row8 col2\" >-0.0140321</td>\n",
              "                        <td id=\"T_c907b484_9be2_11e9_9e96_0242ac1c0002row8_col3\" class=\"data row8 col3\" >-0.0417019</td>\n",
              "                        <td id=\"T_c907b484_9be2_11e9_9e96_0242ac1c0002row8_col4\" class=\"data row8 col4\" >0.01096</td>\n",
              "                        <td id=\"T_c907b484_9be2_11e9_9e96_0242ac1c0002row8_col5\" class=\"data row8 col5\" >-0.0093653</td>\n",
              "                        <td id=\"T_c907b484_9be2_11e9_9e96_0242ac1c0002row8_col6\" class=\"data row8 col6\" >-0.00286976</td>\n",
              "                        <td id=\"T_c907b484_9be2_11e9_9e96_0242ac1c0002row8_col7\" class=\"data row8 col7\" >-0.457119</td>\n",
              "                        <td id=\"T_c907b484_9be2_11e9_9e96_0242ac1c0002row8_col8\" class=\"data row8 col8\" >1</td>\n",
              "                        <td id=\"T_c907b484_9be2_11e9_9e96_0242ac1c0002row8_col9\" class=\"data row8 col9\" >-0.0210225</td>\n",
              "                        <td id=\"T_c907b484_9be2_11e9_9e96_0242ac1c0002row8_col10\" class=\"data row8 col10\" >0.0212718</td>\n",
              "                        <td id=\"T_c907b484_9be2_11e9_9e96_0242ac1c0002row8_col11\" class=\"data row8 col11\" >-0.455088</td>\n",
              "                        <td id=\"T_c907b484_9be2_11e9_9e96_0242ac1c0002row8_col12\" class=\"data row8 col12\" >0.996158</td>\n",
              "            </tr>\n",
              "            <tr>\n",
              "                        <th id=\"T_c907b484_9be2_11e9_9e96_0242ac1c0002level0_row9\" class=\"row_heading level0 row9\" >end_date_hour</th>\n",
              "                        <td id=\"T_c907b484_9be2_11e9_9e96_0242ac1c0002row9_col0\" class=\"data row9 col0\" >-0.00377962</td>\n",
              "                        <td id=\"T_c907b484_9be2_11e9_9e96_0242ac1c0002row9_col1\" class=\"data row9 col1\" >-0.00114136</td>\n",
              "                        <td id=\"T_c907b484_9be2_11e9_9e96_0242ac1c0002row9_col2\" class=\"data row9 col2\" >0.0195436</td>\n",
              "                        <td id=\"T_c907b484_9be2_11e9_9e96_0242ac1c0002row9_col3\" class=\"data row9 col3\" >-0.00535858</td>\n",
              "                        <td id=\"T_c907b484_9be2_11e9_9e96_0242ac1c0002row9_col4\" class=\"data row9 col4\" >0.000252189</td>\n",
              "                        <td id=\"T_c907b484_9be2_11e9_9e96_0242ac1c0002row9_col5\" class=\"data row9 col5\" >0.733342</td>\n",
              "                        <td id=\"T_c907b484_9be2_11e9_9e96_0242ac1c0002row9_col6\" class=\"data row9 col6\" >0.0412657</td>\n",
              "                        <td id=\"T_c907b484_9be2_11e9_9e96_0242ac1c0002row9_col7\" class=\"data row9 col7\" >0.0160979</td>\n",
              "                        <td id=\"T_c907b484_9be2_11e9_9e96_0242ac1c0002row9_col8\" class=\"data row9 col8\" >-0.0210225</td>\n",
              "                        <td id=\"T_c907b484_9be2_11e9_9e96_0242ac1c0002row9_col9\" class=\"data row9 col9\" >1</td>\n",
              "                        <td id=\"T_c907b484_9be2_11e9_9e96_0242ac1c0002row9_col10\" class=\"data row9 col10\" >0.0635461</td>\n",
              "                        <td id=\"T_c907b484_9be2_11e9_9e96_0242ac1c0002row9_col11\" class=\"data row9 col11\" >0.0120839</td>\n",
              "                        <td id=\"T_c907b484_9be2_11e9_9e96_0242ac1c0002row9_col12\" class=\"data row9 col12\" >-0.0195739</td>\n",
              "            </tr>\n",
              "            <tr>\n",
              "                        <th id=\"T_c907b484_9be2_11e9_9e96_0242ac1c0002level0_row10\" class=\"row_heading level0 row10\" >end_date_minute</th>\n",
              "                        <td id=\"T_c907b484_9be2_11e9_9e96_0242ac1c0002row10_col0\" class=\"data row10 col0\" >-0.0261819</td>\n",
              "                        <td id=\"T_c907b484_9be2_11e9_9e96_0242ac1c0002row10_col1\" class=\"data row10 col1\" >0.000722572</td>\n",
              "                        <td id=\"T_c907b484_9be2_11e9_9e96_0242ac1c0002row10_col2\" class=\"data row10 col2\" >-0.00225393</td>\n",
              "                        <td id=\"T_c907b484_9be2_11e9_9e96_0242ac1c0002row10_col3\" class=\"data row10 col3\" >-0.000304721</td>\n",
              "                        <td id=\"T_c907b484_9be2_11e9_9e96_0242ac1c0002row10_col4\" class=\"data row10 col4\" >0.00130504</td>\n",
              "                        <td id=\"T_c907b484_9be2_11e9_9e96_0242ac1c0002row10_col5\" class=\"data row10 col5\" >0.0248042</td>\n",
              "                        <td id=\"T_c907b484_9be2_11e9_9e96_0242ac1c0002row10_col6\" class=\"data row10 col6\" >-0.0988493</td>\n",
              "                        <td id=\"T_c907b484_9be2_11e9_9e96_0242ac1c0002row10_col7\" class=\"data row10 col7\" >-0.00685677</td>\n",
              "                        <td id=\"T_c907b484_9be2_11e9_9e96_0242ac1c0002row10_col8\" class=\"data row10 col8\" >0.0212718</td>\n",
              "                        <td id=\"T_c907b484_9be2_11e9_9e96_0242ac1c0002row10_col9\" class=\"data row10 col9\" >0.0635461</td>\n",
              "                        <td id=\"T_c907b484_9be2_11e9_9e96_0242ac1c0002row10_col10\" class=\"data row10 col10\" >1</td>\n",
              "                        <td id=\"T_c907b484_9be2_11e9_9e96_0242ac1c0002row10_col11\" class=\"data row10 col11\" >-0.00835202</td>\n",
              "                        <td id=\"T_c907b484_9be2_11e9_9e96_0242ac1c0002row10_col12\" class=\"data row10 col12\" >0.0219016</td>\n",
              "            </tr>\n",
              "            <tr>\n",
              "                        <th id=\"T_c907b484_9be2_11e9_9e96_0242ac1c0002level0_row11\" class=\"row_heading level0 row11\" >end_date_month</th>\n",
              "                        <td id=\"T_c907b484_9be2_11e9_9e96_0242ac1c0002row11_col0\" class=\"data row11 col0\" >-0.146235</td>\n",
              "                        <td id=\"T_c907b484_9be2_11e9_9e96_0242ac1c0002row11_col1\" class=\"data row11 col1\" >0.0123035</td>\n",
              "                        <td id=\"T_c907b484_9be2_11e9_9e96_0242ac1c0002row11_col2\" class=\"data row11 col2\" >0.0171188</td>\n",
              "                        <td id=\"T_c907b484_9be2_11e9_9e96_0242ac1c0002row11_col3\" class=\"data row11 col3\" >0.333342</td>\n",
              "                        <td id=\"T_c907b484_9be2_11e9_9e96_0242ac1c0002row11_col4\" class=\"data row11 col4\" >-0.136178</td>\n",
              "                        <td id=\"T_c907b484_9be2_11e9_9e96_0242ac1c0002row11_col5\" class=\"data row11 col5\" >-0.0203127</td>\n",
              "                        <td id=\"T_c907b484_9be2_11e9_9e96_0242ac1c0002row11_col6\" class=\"data row11 col6\" >-0.0104531</td>\n",
              "                        <td id=\"T_c907b484_9be2_11e9_9e96_0242ac1c0002row11_col7\" class=\"data row11 col7\" >0.998793</td>\n",
              "                        <td id=\"T_c907b484_9be2_11e9_9e96_0242ac1c0002row11_col8\" class=\"data row11 col8\" >-0.455088</td>\n",
              "                        <td id=\"T_c907b484_9be2_11e9_9e96_0242ac1c0002row11_col9\" class=\"data row11 col9\" >0.0120839</td>\n",
              "                        <td id=\"T_c907b484_9be2_11e9_9e96_0242ac1c0002row11_col10\" class=\"data row11 col10\" >-0.00835202</td>\n",
              "                        <td id=\"T_c907b484_9be2_11e9_9e96_0242ac1c0002row11_col11\" class=\"data row11 col11\" >1</td>\n",
              "                        <td id=\"T_c907b484_9be2_11e9_9e96_0242ac1c0002row11_col12\" class=\"data row11 col12\" >-0.45762</td>\n",
              "            </tr>\n",
              "            <tr>\n",
              "                        <th id=\"T_c907b484_9be2_11e9_9e96_0242ac1c0002level0_row12\" class=\"row_heading level0 row12\" >end_date_day</th>\n",
              "                        <td id=\"T_c907b484_9be2_11e9_9e96_0242ac1c0002row12_col0\" class=\"data row12 col0\" >-0.0104087</td>\n",
              "                        <td id=\"T_c907b484_9be2_11e9_9e96_0242ac1c0002row12_col1\" class=\"data row12 col1\" >-0.000760913</td>\n",
              "                        <td id=\"T_c907b484_9be2_11e9_9e96_0242ac1c0002row12_col2\" class=\"data row12 col2\" >-0.0139071</td>\n",
              "                        <td id=\"T_c907b484_9be2_11e9_9e96_0242ac1c0002row12_col3\" class=\"data row12 col3\" >-0.0413458</td>\n",
              "                        <td id=\"T_c907b484_9be2_11e9_9e96_0242ac1c0002row12_col4\" class=\"data row12 col4\" >0.0105265</td>\n",
              "                        <td id=\"T_c907b484_9be2_11e9_9e96_0242ac1c0002row12_col5\" class=\"data row12 col5\" >-0.0101405</td>\n",
              "                        <td id=\"T_c907b484_9be2_11e9_9e96_0242ac1c0002row12_col6\" class=\"data row12 col6\" >-0.00249307</td>\n",
              "                        <td id=\"T_c907b484_9be2_11e9_9e96_0242ac1c0002row12_col7\" class=\"data row12 col7\" >-0.4554</td>\n",
              "                        <td id=\"T_c907b484_9be2_11e9_9e96_0242ac1c0002row12_col8\" class=\"data row12 col8\" >0.996158</td>\n",
              "                        <td id=\"T_c907b484_9be2_11e9_9e96_0242ac1c0002row12_col9\" class=\"data row12 col9\" >-0.0195739</td>\n",
              "                        <td id=\"T_c907b484_9be2_11e9_9e96_0242ac1c0002row12_col10\" class=\"data row12 col10\" >0.0219016</td>\n",
              "                        <td id=\"T_c907b484_9be2_11e9_9e96_0242ac1c0002row12_col11\" class=\"data row12 col11\" >-0.45762</td>\n",
              "                        <td id=\"T_c907b484_9be2_11e9_9e96_0242ac1c0002row12_col12\" class=\"data row12 col12\" >1</td>\n",
              "            </tr>\n",
              "    </tbody></table>"
            ],
            "text/plain": [
              "<pandas.io.formats.style.Styler at 0x7f6e681f77b8>"
            ]
          },
          "metadata": {
            "tags": []
          },
          "execution_count": 27
        }
      ]
    },
    {
      "cell_type": "markdown",
      "metadata": {
        "id": "M1nYnSGGZfkK",
        "colab_type": "text"
      },
      "source": [
        "It is clear from the above table that the correlations between the columns are there except between start_date's and end_date's day and month. "
      ]
    },
    {
      "cell_type": "code",
      "metadata": {
        "id": "G4g8dfLKU1Sd",
        "colab_type": "code",
        "colab": {}
      },
      "source": [
        ""
      ],
      "execution_count": 0,
      "outputs": []
    },
    {
      "cell_type": "markdown",
      "metadata": {
        "id": "7xy_c6-daatL",
        "colab_type": "text"
      },
      "source": [
        "Let's see on which date people travel more."
      ]
    },
    {
      "cell_type": "code",
      "metadata": {
        "id": "lbJyA0sFafh6",
        "colab_type": "code",
        "colab": {
          "base_uri": "https://localhost:8080/",
          "height": 673
        },
        "outputId": "04d84751-0bd8-42f7-ee74-8ef65294dc5a"
      },
      "source": [
        "strt_date  = data['start_date'].dt.date.value_counts()\n",
        "plt.figure(figsize=(23,10))\n",
        "sns.barplot(strt_date.index, strt_date.values,palette = \"GnBu_d\")\n",
        "plt.title('Most journeys started dates')\n",
        "plt.xticks(rotation='vertical')\n",
        "plt.ylabel('Number of journeys', fontsize=12)\n",
        "plt.xlabel('Date', fontsize=12)\n",
        "plt.show()"
      ],
      "execution_count": 28,
      "outputs": [
        {
          "output_type": "display_data",
          "data": {
            "image/png": "[encoded data removed]",
            "text/plain": [
              "<Figure size 1656x720 with 1 Axes>"
            ]
          },
          "metadata": {
            "tags": []
          }
        }
      ]
    },
    {
      "cell_type": "code",
      "metadata": {
        "id": "lff3VNeHczvU",
        "colab_type": "code",
        "colab": {
          "base_uri": "https://localhost:8080/",
          "height": 68
        },
        "outputId": "42988cb0-5754-4d68-825f-bee249a97c9f"
      },
      "source": [
        "(data[\"is_travelling_end_on_same_day\"].value_counts() / data.index.size) * 100"
      ],
      "execution_count": 29,
      "outputs": [
        {
          "output_type": "execute_result",
          "data": {
            "text/plain": [
              "Yes    98.259884\n",
              "No      1.740116\n",
              "Name: is_travelling_end_on_same_day, dtype: float64"
            ]
          },
          "metadata": {
            "tags": []
          },
          "execution_count": 29
        }
      ]
    },
    {
      "cell_type": "markdown",
      "metadata": {
        "id": "QY8y4FVKdcJF",
        "colab_type": "text"
      },
      "source": [
        "98% of the travel ends on the same day."
      ]
    },
    {
      "cell_type": "markdown",
      "metadata": {
        "id": "hjMwJmNIvNao",
        "colab_type": "text"
      },
      "source": [
        "Now let's see which are the busiest hours."
      ]
    },
    {
      "cell_type": "code",
      "metadata": {
        "id": "TW1fcFMYeZOt",
        "colab_type": "code",
        "colab": {
          "base_uri": "https://localhost:8080/",
          "height": 627
        },
        "outputId": "a19695f0-af3c-4a26-d4b1-6df2b0d048bc"
      },
      "source": [
        "strt_date  = data['start_date'].dt.hour.value_counts()\n",
        "plt.figure(figsize=(23,10))\n",
        "sns.barplot(strt_date.index, strt_date.values, palette = \"GnBu_d\")\n",
        "plt.title('Most journeys started hour')\n",
        "plt.xticks(rotation='vertical')\n",
        "plt.ylabel('Number of journeys', fontsize=12)\n",
        "plt.xlabel('Hour', fontsize=12)\n",
        "plt.show()"
      ],
      "execution_count": 30,
      "outputs": [
        {
          "output_type": "display_data",
          "data": {
            "image/png": "[encoded data removed]",
            "text/plain": [
              "<Figure size 1656x720 with 1 Axes>"
            ]
          },
          "metadata": {
            "tags": []
          }
        }
      ]
    },
    {
      "cell_type": "markdown",
      "metadata": {
        "id": "J-rkLktCfDTk",
        "colab_type": "text"
      },
      "source": [
        "Majority of people travel at 9 am and 4 p.m and 5 p.m. <br>\n",
        "overall we can say that majority of people likes to travel early morning between 6 to 9. And then at the start of the evening. And very less during midnight."
      ]
    },
    {
      "cell_type": "code",
      "metadata": {
        "id": "y97DGzHBm67U",
        "colab_type": "code",
        "colab": {
          "base_uri": "https://localhost:8080/",
          "height": 627
        },
        "outputId": "1dead385-6293-4875-9051-c9b0e977d0ce"
      },
      "source": [
        "end_date_  = data['end_date'].dt.hour.value_counts()\n",
        "plt.figure(figsize=(23,10))\n",
        "sns.barplot(end_date_.index, end_date_.values, palette = \"GnBu_d\")\n",
        "plt.title('Most journeys ending hour')\n",
        "plt.xticks(rotation='vertical')\n",
        "plt.ylabel('Number of journeys', fontsize=12)\n",
        "plt.xlabel('Hour', fontsize=12)\n",
        "plt.show()"
      ],
      "execution_count": 31,
      "outputs": [
        {
          "output_type": "display_data",
          "data": {
            "image/png": "[encoded data removed]",
            "text/plain": [
              "<Figure size 1656x720 with 1 Axes>"
            ]
          },
          "metadata": {
            "tags": []
          }
        }
      ]
    },
    {
      "cell_type": "code",
      "metadata": {
        "id": "mcWGh6AUga7D",
        "colab_type": "code",
        "colab": {
          "base_uri": "https://localhost:8080/",
          "height": 656
        },
        "outputId": "b978fd07-1421-46fd-b815-c1772ad6e5ed"
      },
      "source": [
        "week_day_  = data[\"start_date_weekday\"].value_counts()\n",
        "plt.figure(figsize=(23,10))\n",
        "sns.barplot(week_day_.index, week_day_.values, palette = \"GnBu_d\")\n",
        "plt.title('Most journeys on: ')\n",
        "plt.xticks(rotation='vertical')\n",
        "plt.ylabel('Number of journeys', fontsize=12)\n",
        "plt.show()"
      ],
      "execution_count": 32,
      "outputs": [
        {
          "output_type": "display_data",
          "data": {
            "image/png": "[encoded data removed]",
            "text/plain": [
              "<Figure size 1656x720 with 1 Axes>"
            ]
          },
          "metadata": {
            "tags": []
          }
        }
      ]
    },
    {
      "cell_type": "markdown",
      "metadata": {
        "id": "C8GXAEI-hwkz",
        "colab_type": "text"
      },
      "source": [
        "People travel mostly on Thursday and Friday."
      ]
    },
    {
      "cell_type": "markdown",
      "metadata": {
        "id": "XwO28ECgidws",
        "colab_type": "text"
      },
      "source": [
        "What is the most fav. source and destination among people?"
      ]
    },
    {
      "cell_type": "code",
      "metadata": {
        "id": "KEihZOavhamE",
        "colab_type": "code",
        "colab": {}
      },
      "source": [
        "route = data[\"origin\"] + \" -to- \" +data[\"destination\"]"
      ],
      "execution_count": 0,
      "outputs": []
    },
    {
      "cell_type": "code",
      "metadata": {
        "id": "y-jQQd2yi9o7",
        "colab_type": "code",
        "colab": {
          "base_uri": "https://localhost:8080/",
          "height": 170
        },
        "outputId": "77328dcb-b991-4269-ea44-4f04d01a03f8"
      },
      "source": [
        "route.value_counts()"
      ],
      "execution_count": 34,
      "outputs": [
        {
          "output_type": "execute_result",
          "data": {
            "text/plain": [
              "MADRID -to- BARCELONA     480074\n",
              "MADRID -to- SEVILLA       413155\n",
              "BARCELONA -to- MADRID     405621\n",
              "MADRID -to- VALENCIA      399679\n",
              "SEVILLA -to- MADRID       398445\n",
              "VALENCIA -to- MADRID      323086\n",
              "PONFERRADA -to- MADRID     93196\n",
              "MADRID -to- PONFERRADA     66515\n",
              "dtype: int64"
            ]
          },
          "metadata": {
            "tags": []
          },
          "execution_count": 34
        }
      ]
    },
    {
      "cell_type": "code",
      "metadata": {
        "id": "zPi7QQoEjHh1",
        "colab_type": "code",
        "colab": {
          "base_uri": "https://localhost:8080/",
          "height": 607
        },
        "outputId": "0bd7807d-837a-44d8-9b98-a477d4f690f2"
      },
      "source": [
        "route_  = route.value_counts()\n",
        "plt.figure(figsize=(23,10))\n",
        "sns.barplot(route_.index, route_.values, palette = \"GnBu_d\")\n",
        "plt.title('Fav. place')\n",
        "plt.ylabel('Number of journeys', fontsize=12)\n",
        "plt.show()"
      ],
      "execution_count": 35,
      "outputs": [
        {
          "output_type": "display_data",
          "data": {
            "image/png": "[encoded data removed]",
            "text/plain": [
              "<Figure size 1656x720 with 1 Axes>"
            ]
          },
          "metadata": {
            "tags": []
          }
        }
      ]
    },
    {
      "cell_type": "markdown",
      "metadata": {
        "id": "BDxmMoSNkCo1",
        "colab_type": "text"
      },
      "source": [
        "Let's fit our model now."
      ]
    },
    {
      "cell_type": "markdown",
      "metadata": {
        "id": "AOrGH5LylwkQ",
        "colab_type": "text"
      },
      "source": [
        "We want to predict price. So lets take price column into another dataframe."
      ]
    },
    {
      "cell_type": "code",
      "metadata": {
        "id": "2iuSuraBjkOZ",
        "colab_type": "code",
        "colab": {}
      },
      "source": [
        "Y = data[\"price\"].values\n",
        "X = data.drop([\"price\"],axis = 1)"
      ],
      "execution_count": 0,
      "outputs": []
    },
    {
      "cell_type": "code",
      "metadata": {
        "id": "kMdP5zsdnTh4",
        "colab_type": "code",
        "colab": {
          "base_uri": "https://localhost:8080/",
          "height": 34
        },
        "outputId": "56795982-e3a2-4e8e-c000-e05618627fa1"
      },
      "source": [
        "Y"
      ],
      "execution_count": 37,
      "outputs": [
        {
          "output_type": "execute_result",
          "data": {
            "text/plain": [
              "array([38.55, 53.4 , 47.3 , ..., 72.3 , 76.3 , 49.15])"
            ]
          },
          "metadata": {
            "tags": []
          },
          "execution_count": 37
        }
      ]
    },
    {
      "cell_type": "code",
      "metadata": {
        "id": "NHBvbyocnuv9",
        "colab_type": "code",
        "colab": {
          "base_uri": "https://localhost:8080/",
          "height": 394
        },
        "outputId": "4daababc-cc98-445f-e0e1-f53a2025464d"
      },
      "source": [
        "X.head(5)"
      ],
      "execution_count": 38,
      "outputs": [
        {
          "output_type": "execute_result",
          "data": {
            "text/html": [
              "<div>\n",
              "<style scoped>\n",
              "    .dataframe tbody tr th:only-of-type {\n",
              "        vertical-align: middle;\n",
              "    }\n",
              "\n",
              "    .dataframe tbody tr th {\n",
              "        vertical-align: top;\n",
              "    }\n",
              "\n",
              "    .dataframe thead th {\n",
              "        text-align: right;\n",
              "    }\n",
              "</style>\n",
              "<table border=\"1\" class=\"dataframe\">\n",
              "  <thead>\n",
              "    <tr style=\"text-align: right;\">\n",
              "      <th></th>\n",
              "      <th>insert_date</th>\n",
              "      <th>origin</th>\n",
              "      <th>destination</th>\n",
              "      <th>start_date</th>\n",
              "      <th>end_date</th>\n",
              "      <th>train_type</th>\n",
              "      <th>train_class</th>\n",
              "      <th>fare</th>\n",
              "      <th>insert_date_hour</th>\n",
              "      <th>insert_date_minute</th>\n",
              "      <th>insert_date_weekday</th>\n",
              "      <th>insert_date_month</th>\n",
              "      <th>insert_date_day</th>\n",
              "      <th>start_date_hour</th>\n",
              "      <th>start_date_minute</th>\n",
              "      <th>start_date_weekday</th>\n",
              "      <th>start_date_month</th>\n",
              "      <th>start_date_day</th>\n",
              "      <th>end_date_hour</th>\n",
              "      <th>end_date_minute</th>\n",
              "      <th>end_date_weekday</th>\n",
              "      <th>end_date_month</th>\n",
              "      <th>end_date_day</th>\n",
              "      <th>is_travelling_end_on_same_day</th>\n",
              "    </tr>\n",
              "  </thead>\n",
              "  <tbody>\n",
              "    <tr>\n",
              "      <th>0</th>\n",
              "      <td>2019-04-19 05:31:43</td>\n",
              "      <td>MADRID</td>\n",
              "      <td>SEVILLA</td>\n",
              "      <td>2019-05-29 06:20:00</td>\n",
              "      <td>2019-05-29 09:16:00</td>\n",
              "      <td>AV City</td>\n",
              "      <td>Turista</td>\n",
              "      <td>Promo</td>\n",
              "      <td>5</td>\n",
              "      <td>31</td>\n",
              "      <td>Friday</td>\n",
              "      <td>4</td>\n",
              "      <td>19</td>\n",
              "      <td>6</td>\n",
              "      <td>20</td>\n",
              "      <td>Wednesday</td>\n",
              "      <td>5</td>\n",
              "      <td>29</td>\n",
              "      <td>9</td>\n",
              "      <td>16</td>\n",
              "      <td>Wednesday</td>\n",
              "      <td>5</td>\n",
              "      <td>29</td>\n",
              "      <td>Yes</td>\n",
              "    </tr>\n",
              "    <tr>\n",
              "      <th>1</th>\n",
              "      <td>2019-04-19 05:31:43</td>\n",
              "      <td>MADRID</td>\n",
              "      <td>SEVILLA</td>\n",
              "      <td>2019-05-29 07:00:00</td>\n",
              "      <td>2019-05-29 09:32:00</td>\n",
              "      <td>AVE</td>\n",
              "      <td>Turista</td>\n",
              "      <td>Promo</td>\n",
              "      <td>5</td>\n",
              "      <td>31</td>\n",
              "      <td>Friday</td>\n",
              "      <td>4</td>\n",
              "      <td>19</td>\n",
              "      <td>7</td>\n",
              "      <td>0</td>\n",
              "      <td>Wednesday</td>\n",
              "      <td>5</td>\n",
              "      <td>29</td>\n",
              "      <td>9</td>\n",
              "      <td>32</td>\n",
              "      <td>Wednesday</td>\n",
              "      <td>5</td>\n",
              "      <td>29</td>\n",
              "      <td>Yes</td>\n",
              "    </tr>\n",
              "    <tr>\n",
              "      <th>2</th>\n",
              "      <td>2019-04-19 05:31:43</td>\n",
              "      <td>MADRID</td>\n",
              "      <td>SEVILLA</td>\n",
              "      <td>2019-05-29 07:30:00</td>\n",
              "      <td>2019-05-29 09:51:00</td>\n",
              "      <td>AVE</td>\n",
              "      <td>Turista</td>\n",
              "      <td>Promo</td>\n",
              "      <td>5</td>\n",
              "      <td>31</td>\n",
              "      <td>Friday</td>\n",
              "      <td>4</td>\n",
              "      <td>19</td>\n",
              "      <td>7</td>\n",
              "      <td>30</td>\n",
              "      <td>Wednesday</td>\n",
              "      <td>5</td>\n",
              "      <td>29</td>\n",
              "      <td>9</td>\n",
              "      <td>51</td>\n",
              "      <td>Wednesday</td>\n",
              "      <td>5</td>\n",
              "      <td>29</td>\n",
              "      <td>Yes</td>\n",
              "    </tr>\n",
              "    <tr>\n",
              "      <th>3</th>\n",
              "      <td>2019-04-19 05:31:43</td>\n",
              "      <td>MADRID</td>\n",
              "      <td>SEVILLA</td>\n",
              "      <td>2019-05-29 08:00:00</td>\n",
              "      <td>2019-05-29 10:32:00</td>\n",
              "      <td>AVE</td>\n",
              "      <td>Preferente</td>\n",
              "      <td>Promo</td>\n",
              "      <td>5</td>\n",
              "      <td>31</td>\n",
              "      <td>Friday</td>\n",
              "      <td>4</td>\n",
              "      <td>19</td>\n",
              "      <td>8</td>\n",
              "      <td>0</td>\n",
              "      <td>Wednesday</td>\n",
              "      <td>5</td>\n",
              "      <td>29</td>\n",
              "      <td>10</td>\n",
              "      <td>32</td>\n",
              "      <td>Wednesday</td>\n",
              "      <td>5</td>\n",
              "      <td>29</td>\n",
              "      <td>Yes</td>\n",
              "    </tr>\n",
              "    <tr>\n",
              "      <th>4</th>\n",
              "      <td>2019-04-19 05:31:43</td>\n",
              "      <td>MADRID</td>\n",
              "      <td>SEVILLA</td>\n",
              "      <td>2019-05-29 08:30:00</td>\n",
              "      <td>2019-05-29 11:14:00</td>\n",
              "      <td>ALVIA</td>\n",
              "      <td>Turista</td>\n",
              "      <td>Promo</td>\n",
              "      <td>5</td>\n",
              "      <td>31</td>\n",
              "      <td>Friday</td>\n",
              "      <td>4</td>\n",
              "      <td>19</td>\n",
              "      <td>8</td>\n",
              "      <td>30</td>\n",
              "      <td>Wednesday</td>\n",
              "      <td>5</td>\n",
              "      <td>29</td>\n",
              "      <td>11</td>\n",
              "      <td>14</td>\n",
              "      <td>Wednesday</td>\n",
              "      <td>5</td>\n",
              "      <td>29</td>\n",
              "      <td>Yes</td>\n",
              "    </tr>\n",
              "  </tbody>\n",
              "</table>\n",
              "</div>"
            ],
            "text/plain": [
              "          insert_date  origin  ... end_date_day is_travelling_end_on_same_day\n",
              "0 2019-04-19 05:31:43  MADRID  ...           29                           Yes\n",
              "1 2019-04-19 05:31:43  MADRID  ...           29                           Yes\n",
              "2 2019-04-19 05:31:43  MADRID  ...           29                           Yes\n",
              "3 2019-04-19 05:31:43  MADRID  ...           29                           Yes\n",
              "4 2019-04-19 05:31:43  MADRID  ...           29                           Yes\n",
              "\n",
              "[5 rows x 24 columns]"
            ]
          },
          "metadata": {
            "tags": []
          },
          "execution_count": 38
        }
      ]
    },
    {
      "cell_type": "markdown",
      "metadata": {
        "id": "pHN1-_cgnxvj",
        "colab_type": "text"
      },
      "source": [
        "Now our problem is categorical data. <br>\n",
        "We can use one-hot encoding to convert these categorical values."
      ]
    },
    {
      "cell_type": "code",
      "metadata": {
        "id": "gPe0xugSnwY4",
        "colab_type": "code",
        "colab": {}
      },
      "source": [
        "import sklearn\n",
        "from sklearn.preprocessing import OneHotEncoder\n",
        "from sklearn.model_selection import train_test_split\n",
        "from sklearn.metrics import mean_squared_error\n",
        "from sklearn.linear_model import LinearRegression\n",
        "from lightgbm import LGBMRegressor"
      ],
      "execution_count": 0,
      "outputs": []
    },
    {
      "cell_type": "code",
      "metadata": {
        "id": "bI8RXYMapo80",
        "colab_type": "code",
        "colab": {}
      },
      "source": [
        "X = X.drop([\"insert_date\",\"start_date\",\"end_date\"],axis=1)"
      ],
      "execution_count": 0,
      "outputs": []
    },
    {
      "cell_type": "code",
      "metadata": {
        "id": "QOPYw6sioKD2",
        "colab_type": "code",
        "colab": {}
      },
      "source": [
        "encoder = OneHotEncoder()\n",
        "X = encoder.fit_transform(X.values)"
      ],
      "execution_count": 0,
      "outputs": []
    },
    {
      "cell_type": "code",
      "metadata": {
        "id": "R7Nf4yXoopZu",
        "colab_type": "code",
        "colab": {
          "base_uri": "https://localhost:8080/",
          "height": 51
        },
        "outputId": "735a046d-8bf4-4109-8348-c05b98326d11"
      },
      "source": [
        "X"
      ],
      "execution_count": 42,
      "outputs": [
        {
          "output_type": "execute_result",
          "data": {
            "text/plain": [
              "<2579771x364 sparse matrix of type '<class 'numpy.float64'>'\n",
              "\twith 54175191 stored elements in Compressed Sparse Row format>"
            ]
          },
          "metadata": {
            "tags": []
          },
          "execution_count": 42
        }
      ]
    },
    {
      "cell_type": "code",
      "metadata": {
        "id": "pVC6PyF7p762",
        "colab_type": "code",
        "colab": {
          "base_uri": "https://localhost:8080/",
          "height": 544
        },
        "outputId": "c9532c8a-d419-4ec8-a060-de1e157ec8a3"
      },
      "source": [
        "for category in encoder.categories_:\n",
        "  print(category)"
      ],
      "execution_count": 43,
      "outputs": [
        {
          "output_type": "stream",
          "text": [
            "['BARCELONA' 'MADRID' 'PONFERRADA' 'SEVILLA' 'VALENCIA']\n",
            "['BARCELONA' 'MADRID' 'PONFERRADA' 'SEVILLA' 'VALENCIA']\n",
            "['ALVIA' 'AV City' 'AVE' 'AVE-LD' 'AVE-MD' 'AVE-TGV' 'INTERCITY' 'LD'\n",
            " 'LD-AVE' 'LD-MD' 'MD' 'MD-AVE' 'MD-LD' 'R. EXPRES' 'REGIONAL' 'TRENHOTEL']\n",
            "['Cama G. Clase' 'Cama Turista' 'Preferente' 'Turista' 'Turista Plus'\n",
            " 'Turista con enlace']\n",
            "['Adulto ida' 'Flexible' 'Grupos Ida' 'Individual-Flexible' 'Mesa' 'Promo'\n",
            " 'Promo +']\n",
            "[0 1 2 3 4 5 6 7 8 9 10 11 12 13 14 15 16 17 18 19 20 21 22 23]\n",
            "[0 1 2 3 4 5 6 7 8 9 10 11 12 13 14 15 16 17 18 19 20 21 22 23 24 25 26 27\n",
            " 28 29 30 31 32 33 34 35 36 37 38 39 40 41 42 43 44 45 46 47 48 49 50 51\n",
            " 52 53 54 55 56 57 58 59]\n",
            "['Friday' 'Monday' 'Saturday' 'Sunday' 'Thursday' 'Tuesday' 'Wednesday']\n",
            "[4 5]\n",
            "[1 2 3 4 5 6 7 8 9 11 12 13 14 15 16 17 18 19 20 21 22 23 24 25 26 27 28\n",
            " 29 30]\n",
            "[2 5 6 7 8 9 10 11 12 13 14 15 16 17 18 19 20 21 22]\n",
            "[0 3 5 8 10 11 14 15 17 18 19 20 21 25 26 28 30 35 36 38 40 42 43 44 45 48\n",
            " 50 55 58]\n",
            "['Friday' 'Monday' 'Saturday' 'Sunday' 'Thursday' 'Tuesday' 'Wednesday']\n",
            "[4 5 6 7]\n",
            "[1 2 3 4 5 6 7 8 9 10 11 12 13 14 15 16 17 18 19 20 21 22 23 24 25 26 27\n",
            " 28 29 30 31]\n",
            "[0 4 8 9 10 11 12 13 14 15 16 17 18 19 20 21 22 23]\n",
            "[0 1 2 3 4 5 7 8 9 10 12 14 15 16 17 20 21 22 23 24 25 26 27 28 29 30 31\n",
            " 32 33 34 35 36 37 38 40 41 42 43 45 47 48 50 51 52 53 54 55 56 57 58 59]\n",
            "['Friday' 'Monday' 'Saturday' 'Sunday' 'Thursday' 'Tuesday' 'Wednesday']\n",
            "[4 5 6 7]\n",
            "[1 2 3 4 5 6 7 8 9 10 11 12 13 14 15 16 17 18 19 20 21 22 23 24 25 26 27\n",
            " 28 29 30 31]\n",
            "['No' 'Yes']\n"
          ],
          "name": "stdout"
        }
      ]
    },
    {
      "cell_type": "code",
      "metadata": {
        "id": "MnAN_bmnqG43",
        "colab_type": "code",
        "colab": {
          "base_uri": "https://localhost:8080/",
          "height": 68
        },
        "outputId": "d8a16b80-13d6-4293-dab6-d4ae6e712792"
      },
      "source": [
        "print(encoder.get_params)"
      ],
      "execution_count": 44,
      "outputs": [
        {
          "output_type": "stream",
          "text": [
            "<bound method BaseEstimator.get_params of OneHotEncoder(categorical_features=None, categories=None, drop=None,\n",
            "              dtype=<class 'numpy.float64'>, handle_unknown='error',\n",
            "              n_values=None, sparse=True)>\n"
          ],
          "name": "stdout"
        }
      ]
    },
    {
      "cell_type": "code",
      "metadata": {
        "id": "VW9ZuguYqTxB",
        "colab_type": "code",
        "colab": {}
      },
      "source": [
        "X_train, X_test, Y_train, Y_test = train_test_split(X,Y,test_size=0.20,random_state=22)"
      ],
      "execution_count": 0,
      "outputs": []
    },
    {
      "cell_type": "code",
      "metadata": {
        "id": "5JRD3Qv7rHKl",
        "colab_type": "code",
        "colab": {
          "base_uri": "https://localhost:8080/",
          "height": 34
        },
        "outputId": "163a58bc-820f-4bf3-e943-3f7186659a57"
      },
      "source": [
        "X_train.shape, X_test.shape, Y_train.shape, Y_test.shape"
      ],
      "execution_count": 46,
      "outputs": [
        {
          "output_type": "execute_result",
          "data": {
            "text/plain": [
              "((2063816, 364), (515955, 364), (2063816,), (515955,))"
            ]
          },
          "metadata": {
            "tags": []
          },
          "execution_count": 46
        }
      ]
    },
    {
      "cell_type": "markdown",
      "metadata": {
        "id": "GXq1-4YXrbYY",
        "colab_type": "text"
      },
      "source": [
        "**Let's try with the basic Linear Regression first.**"
      ]
    },
    {
      "cell_type": "code",
      "metadata": {
        "id": "mLizs4FMrP_5",
        "colab_type": "code",
        "colab": {}
      },
      "source": [
        "linear_model = LinearRegression()"
      ],
      "execution_count": 0,
      "outputs": []
    },
    {
      "cell_type": "code",
      "metadata": {
        "id": "Z56kVWoYrlYW",
        "colab_type": "code",
        "colab": {
          "base_uri": "https://localhost:8080/",
          "height": 34
        },
        "outputId": "e5c1bad2-ce7b-416e-cbc6-9528a272f529"
      },
      "source": [
        "linear_model.fit(X_train,Y_train)"
      ],
      "execution_count": 160,
      "outputs": [
        {
          "output_type": "execute_result",
          "data": {
            "text/plain": [
              "LinearRegression(copy_X=True, fit_intercept=True, n_jobs=None, normalize=False)"
            ]
          },
          "metadata": {
            "tags": []
          },
          "execution_count": 160
        }
      ]
    },
    {
      "cell_type": "code",
      "metadata": {
        "id": "zYKwpqQprvto",
        "colab_type": "code",
        "colab": {}
      },
      "source": [
        "y_hat = linear_model.predict(X_train)"
      ],
      "execution_count": 0,
      "outputs": []
    },
    {
      "cell_type": "code",
      "metadata": {
        "id": "UyOr4uiCsqyl",
        "colab_type": "code",
        "colab": {
          "base_uri": "https://localhost:8080/",
          "height": 34
        },
        "outputId": "d929b72b-4729-4a27-e3e3-6e4279c34faf"
      },
      "source": [
        "print(mean_squared_error(Y_train,y_hat))"
      ],
      "execution_count": 162,
      "outputs": [
        {
          "output_type": "stream",
          "text": [
            "109.27775451399957\n"
          ],
          "name": "stdout"
        }
      ]
    },
    {
      "cell_type": "code",
      "metadata": {
        "id": "4MUWEmOKs1gE",
        "colab_type": "code",
        "colab": {
          "base_uri": "https://localhost:8080/",
          "height": 34
        },
        "outputId": "83e23bf4-3e39-4d9c-e421-7c84469a904c"
      },
      "source": [
        "y_test_hat = linear_model.predict(X_test)\n",
        "print(mean_squared_error(Y_test,y_test_hat))"
      ],
      "execution_count": 163,
      "outputs": [
        {
          "output_type": "stream",
          "text": [
            "109.3856326961067\n"
          ],
          "name": "stdout"
        }
      ]
    },
    {
      "cell_type": "markdown",
      "metadata": {
        "id": "TTuIxAB_tSof",
        "colab_type": "text"
      },
      "source": [
        "Clearly, this model is not good due to such high error. We need to try some other model."
      ]
    },
    {
      "cell_type": "markdown",
      "metadata": {
        "id": "Kk34BGNq8JET",
        "colab_type": "text"
      },
      "source": [
        "**Gradient Boosting**"
      ]
    },
    {
      "cell_type": "code",
      "metadata": {
        "id": "Dd5iL09a4IfI",
        "colab_type": "code",
        "colab": {
          "base_uri": "https://localhost:8080/",
          "height": 119
        },
        "outputId": "90c34876-1f60-4f22-f0e5-a09532a06b23"
      },
      "source": [
        "model = LGBMRegressor(n_estimators = 1000)\n",
        "model.fit(X_train,Y_train)"
      ],
      "execution_count": 49,
      "outputs": [
        {
          "output_type": "execute_result",
          "data": {
            "text/plain": [
              "LGBMRegressor(boosting_type='gbdt', class_weight=None, colsample_bytree=1.0,\n",
              "              importance_type='split', learning_rate=0.1, max_depth=-1,\n",
              "              min_child_samples=20, min_child_weight=0.001, min_split_gain=0.0,\n",
              "              n_estimators=1000, n_jobs=-1, num_leaves=31, objective=None,\n",
              "              random_state=None, reg_alpha=0.0, reg_lambda=0.0, silent=True,\n",
              "              subsample=1.0, subsample_for_bin=200000, subsample_freq=0)"
            ]
          },
          "metadata": {
            "tags": []
          },
          "execution_count": 49
        }
      ]
    },
    {
      "cell_type": "code",
      "metadata": {
        "id": "wAR5lF0h4o5Q",
        "colab_type": "code",
        "colab": {
          "base_uri": "https://localhost:8080/",
          "height": 34
        },
        "outputId": "0ee6e2fe-b745-400a-e157-ff6808f0a583"
      },
      "source": [
        "y_test_hat = model.predict(X_test)\n",
        "print(mean_squared_error(Y_test,y_test_hat))"
      ],
      "execution_count": 51,
      "outputs": [
        {
          "output_type": "stream",
          "text": [
            "29.20344225010919\n"
          ],
          "name": "stdout"
        }
      ]
    },
    {
      "cell_type": "code",
      "metadata": {
        "id": "8SGdvcrT6JM4",
        "colab_type": "code",
        "colab": {
          "base_uri": "https://localhost:8080/",
          "height": 34
        },
        "outputId": "934cc8c2-7ba1-40ce-bc63-7aa95d51be1f"
      },
      "source": [
        "model.score(X_test,Y_test)"
      ],
      "execution_count": 52,
      "outputs": [
        {
          "output_type": "execute_result",
          "data": {
            "text/plain": [
              "0.9515886010400645"
            ]
          },
          "metadata": {
            "tags": []
          },
          "execution_count": 52
        }
      ]
    },
    {
      "cell_type": "code",
      "metadata": {
        "id": "n-EGpuDq6wvf",
        "colab_type": "code",
        "colab": {}
      },
      "source": [
        ""
      ],
      "execution_count": 0,
      "outputs": []
    }
  ]
}