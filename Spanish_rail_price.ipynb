{
  "nbformat": 4,
  "nbformat_minor": 0,
  "metadata": {
    "colab": {
      "name": "Spanish_rail_price.ipynb",
      "version": "0.3.2",
      "provenance": []
    },
    "kernelspec": {
      "name": "python3",
      "display_name": "Python 3"
    },
    "accelerator": "GPU"
  },
  "cells": [
    {
      "cell_type": "code",
      "metadata": {
        "id": "tYwnqlh6NiOY",
        "colab_type": "code",
        "outputId": "04fd146a-1f73-4317-9d6e-7f15ad8df033",
        "colab": {
          "base_uri": "https://localhost:8080/",
          "height": 51
        }
      },
      "source": [
        "!unzip renfe.csv.zip"
      ],
      "execution_count": 0,
      "outputs": [
        {
          "output_type": "stream",
          "text": [
            "Archive:  renfe.csv.zip\n",
            "  inflating: renfe.csv               \n"
          ],
          "name": "stdout"
        }
      ]
    },
    {
      "cell_type": "code",
      "metadata": {
        "id": "dtVqt0tUsTra",
        "colab_type": "code",
        "colab": {}
      },
      "source": [
        "import pandas as pd\n",
        "import numpy as np\n",
        "import matplotlib.pyplot as plt\n",
        "import seaborn as sns"
      ],
      "execution_count": 0,
      "outputs": []
    },
    {
      "cell_type": "code",
      "metadata": {
        "id": "RZIvEyz6sbvS",
        "colab_type": "code",
        "outputId": "3802c474-31dc-4133-e27c-3fe3fa91b00d",
        "colab": {
          "base_uri": "https://localhost:8080/",
          "height": 71
        }
      },
      "source": [
        " data = pd.read_csv(\"renfe.csv\",index_col=0)"
      ],
      "execution_count": 0,
      "outputs": [
        {
          "output_type": "stream",
          "text": [
            "/usr/local/lib/python3.6/dist-packages/numpy/lib/arraysetops.py:569: FutureWarning: elementwise comparison failed; returning scalar instead, but in the future will perform elementwise comparison\n",
            "  mask |= (ar1 == a)\n"
          ],
          "name": "stderr"
        }
      ]
    },
    {
      "cell_type": "code",
      "metadata": {
        "id": "VjHhOuTTsgcx",
        "colab_type": "code",
        "outputId": "44a41861-c878-4fd8-932c-b88d6941b226",
        "colab": {
          "base_uri": "https://localhost:8080/",
          "height": 34
        }
      },
      "source": [
        "data.shape"
      ],
      "execution_count": 0,
      "outputs": [
        {
          "output_type": "execute_result",
          "data": {
            "text/plain": [
              "(2579771, 9)"
            ]
          },
          "metadata": {
            "tags": []
          },
          "execution_count": 3
        }
      ]
    },
    {
      "cell_type": "code",
      "metadata": {
        "id": "PrdeU6Y_siFD",
        "colab_type": "code",
        "outputId": "5edfd7d9-2207-4f70-8b91-c1108ec8eb17",
        "colab": {
          "base_uri": "https://localhost:8080/",
          "height": 68
        }
      },
      "source": [
        "data.columns"
      ],
      "execution_count": 0,
      "outputs": [
        {
          "output_type": "execute_result",
          "data": {
            "text/plain": [
              "Index(['insert_date', 'origin', 'destination', 'start_date', 'end_date',\n",
              "       'train_type', 'price', 'train_class', 'fare'],\n",
              "      dtype='object')"
            ]
          },
          "metadata": {
            "tags": []
          },
          "execution_count": 4
        }
      ]
    },
    {
      "cell_type": "code",
      "metadata": {
        "id": "bGm6uMt5skLS",
        "colab_type": "code",
        "outputId": "9dd7a889-9159-431a-919f-14816583ddb8",
        "colab": {
          "base_uri": "https://localhost:8080/",
          "height": 187
        }
      },
      "source": [
        "data.dtypes"
      ],
      "execution_count": 0,
      "outputs": [
        {
          "output_type": "execute_result",
          "data": {
            "text/plain": [
              "insert_date     object\n",
              "origin          object\n",
              "destination     object\n",
              "start_date      object\n",
              "end_date        object\n",
              "train_type      object\n",
              "price          float64\n",
              "train_class     object\n",
              "fare            object\n",
              "dtype: object"
            ]
          },
          "metadata": {
            "tags": []
          },
          "execution_count": 5
        }
      ]
    },
    {
      "cell_type": "code",
      "metadata": {
        "id": "QQP8zHWUsmDl",
        "colab_type": "code",
        "outputId": "f8658ceb-0433-4767-a502-c8d511e84725",
        "colab": {
          "base_uri": "https://localhost:8080/",
          "height": 359
        }
      },
      "source": [
        "data[:10]"
      ],
      "execution_count": 0,
      "outputs": [
        {
          "output_type": "execute_result",
          "data": {
            "text/html": [
              "<div>\n",
              "<style scoped>\n",
              "    .dataframe tbody tr th:only-of-type {\n",
              "        vertical-align: middle;\n",
              "    }\n",
              "\n",
              "    .dataframe tbody tr th {\n",
              "        vertical-align: top;\n",
              "    }\n",
              "\n",
              "    .dataframe thead th {\n",
              "        text-align: right;\n",
              "    }\n",
              "</style>\n",
              "<table border=\"1\" class=\"dataframe\">\n",
              "  <thead>\n",
              "    <tr style=\"text-align: right;\">\n",
              "      <th></th>\n",
              "      <th>insert_date</th>\n",
              "      <th>origin</th>\n",
              "      <th>destination</th>\n",
              "      <th>start_date</th>\n",
              "      <th>end_date</th>\n",
              "      <th>train_type</th>\n",
              "      <th>price</th>\n",
              "      <th>train_class</th>\n",
              "      <th>fare</th>\n",
              "    </tr>\n",
              "  </thead>\n",
              "  <tbody>\n",
              "    <tr>\n",
              "      <th>0</th>\n",
              "      <td>2019-04-19 05:31:43</td>\n",
              "      <td>MADRID</td>\n",
              "      <td>SEVILLA</td>\n",
              "      <td>2019-05-29 06:20:00</td>\n",
              "      <td>2019-05-29 09:16:00</td>\n",
              "      <td>AV City</td>\n",
              "      <td>38.55</td>\n",
              "      <td>Turista</td>\n",
              "      <td>Promo</td>\n",
              "    </tr>\n",
              "    <tr>\n",
              "      <th>1</th>\n",
              "      <td>2019-04-19 05:31:43</td>\n",
              "      <td>MADRID</td>\n",
              "      <td>SEVILLA</td>\n",
              "      <td>2019-05-29 07:00:00</td>\n",
              "      <td>2019-05-29 09:32:00</td>\n",
              "      <td>AVE</td>\n",
              "      <td>53.40</td>\n",
              "      <td>Turista</td>\n",
              "      <td>Promo</td>\n",
              "    </tr>\n",
              "    <tr>\n",
              "      <th>2</th>\n",
              "      <td>2019-04-19 05:31:43</td>\n",
              "      <td>MADRID</td>\n",
              "      <td>SEVILLA</td>\n",
              "      <td>2019-05-29 07:30:00</td>\n",
              "      <td>2019-05-29 09:51:00</td>\n",
              "      <td>AVE</td>\n",
              "      <td>47.30</td>\n",
              "      <td>Turista</td>\n",
              "      <td>Promo</td>\n",
              "    </tr>\n",
              "    <tr>\n",
              "      <th>3</th>\n",
              "      <td>2019-04-19 05:31:43</td>\n",
              "      <td>MADRID</td>\n",
              "      <td>SEVILLA</td>\n",
              "      <td>2019-05-29 08:00:00</td>\n",
              "      <td>2019-05-29 10:32:00</td>\n",
              "      <td>AVE</td>\n",
              "      <td>69.40</td>\n",
              "      <td>Preferente</td>\n",
              "      <td>Promo</td>\n",
              "    </tr>\n",
              "    <tr>\n",
              "      <th>4</th>\n",
              "      <td>2019-04-19 05:31:43</td>\n",
              "      <td>MADRID</td>\n",
              "      <td>SEVILLA</td>\n",
              "      <td>2019-05-29 08:30:00</td>\n",
              "      <td>2019-05-29 11:14:00</td>\n",
              "      <td>ALVIA</td>\n",
              "      <td>NaN</td>\n",
              "      <td>Turista</td>\n",
              "      <td>Promo</td>\n",
              "    </tr>\n",
              "    <tr>\n",
              "      <th>5</th>\n",
              "      <td>2019-04-19 05:31:43</td>\n",
              "      <td>MADRID</td>\n",
              "      <td>SEVILLA</td>\n",
              "      <td>2019-05-29 09:00:00</td>\n",
              "      <td>2019-05-29 11:38:00</td>\n",
              "      <td>AVE</td>\n",
              "      <td>60.30</td>\n",
              "      <td>Turista</td>\n",
              "      <td>Promo</td>\n",
              "    </tr>\n",
              "    <tr>\n",
              "      <th>6</th>\n",
              "      <td>2019-04-19 05:31:43</td>\n",
              "      <td>MADRID</td>\n",
              "      <td>SEVILLA</td>\n",
              "      <td>2019-05-29 09:45:00</td>\n",
              "      <td>2019-05-29 12:27:00</td>\n",
              "      <td>INTERCITY</td>\n",
              "      <td>62.20</td>\n",
              "      <td>Turista</td>\n",
              "      <td>Flexible</td>\n",
              "    </tr>\n",
              "    <tr>\n",
              "      <th>7</th>\n",
              "      <td>2019-04-19 05:31:43</td>\n",
              "      <td>MADRID</td>\n",
              "      <td>SEVILLA</td>\n",
              "      <td>2019-05-29 10:00:00</td>\n",
              "      <td>2019-05-29 12:32:00</td>\n",
              "      <td>AVE</td>\n",
              "      <td>47.30</td>\n",
              "      <td>Turista</td>\n",
              "      <td>Promo</td>\n",
              "    </tr>\n",
              "    <tr>\n",
              "      <th>8</th>\n",
              "      <td>2019-04-19 05:31:43</td>\n",
              "      <td>MADRID</td>\n",
              "      <td>SEVILLA</td>\n",
              "      <td>2019-05-29 11:00:00</td>\n",
              "      <td>2019-05-29 13:32:00</td>\n",
              "      <td>AVE</td>\n",
              "      <td>53.40</td>\n",
              "      <td>Turista</td>\n",
              "      <td>Promo</td>\n",
              "    </tr>\n",
              "    <tr>\n",
              "      <th>9</th>\n",
              "      <td>2019-04-19 05:31:43</td>\n",
              "      <td>MADRID</td>\n",
              "      <td>SEVILLA</td>\n",
              "      <td>2019-05-29 11:05:00</td>\n",
              "      <td>2019-05-29 13:41:00</td>\n",
              "      <td>ALVIA</td>\n",
              "      <td>NaN</td>\n",
              "      <td>Turista</td>\n",
              "      <td>Promo</td>\n",
              "    </tr>\n",
              "  </tbody>\n",
              "</table>\n",
              "</div>"
            ],
            "text/plain": [
              "           insert_date  origin destination  ...  price train_class      fare\n",
              "0  2019-04-19 05:31:43  MADRID     SEVILLA  ...  38.55     Turista     Promo\n",
              "1  2019-04-19 05:31:43  MADRID     SEVILLA  ...  53.40     Turista     Promo\n",
              "2  2019-04-19 05:31:43  MADRID     SEVILLA  ...  47.30     Turista     Promo\n",
              "3  2019-04-19 05:31:43  MADRID     SEVILLA  ...  69.40  Preferente     Promo\n",
              "4  2019-04-19 05:31:43  MADRID     SEVILLA  ...    NaN     Turista     Promo\n",
              "5  2019-04-19 05:31:43  MADRID     SEVILLA  ...  60.30     Turista     Promo\n",
              "6  2019-04-19 05:31:43  MADRID     SEVILLA  ...  62.20     Turista  Flexible\n",
              "7  2019-04-19 05:31:43  MADRID     SEVILLA  ...  47.30     Turista     Promo\n",
              "8  2019-04-19 05:31:43  MADRID     SEVILLA  ...  53.40     Turista     Promo\n",
              "9  2019-04-19 05:31:43  MADRID     SEVILLA  ...    NaN     Turista     Promo\n",
              "\n",
              "[10 rows x 9 columns]"
            ]
          },
          "metadata": {
            "tags": []
          },
          "execution_count": 6
        }
      ]
    },
    {
      "cell_type": "code",
      "metadata": {
        "id": "Zla4kP1bsy8O",
        "colab_type": "code",
        "outputId": "6b48c3d0-6928-4c39-e3ce-11372aa5f2fc",
        "colab": {
          "base_uri": "https://localhost:8080/",
          "height": 187
        }
      },
      "source": [
        "data.isna().sum()"
      ],
      "execution_count": 0,
      "outputs": [
        {
          "output_type": "execute_result",
          "data": {
            "text/plain": [
              "insert_date         0\n",
              "origin              0\n",
              "destination         0\n",
              "start_date          0\n",
              "end_date            0\n",
              "train_type          0\n",
              "price          310681\n",
              "train_class      9664\n",
              "fare             9664\n",
              "dtype: int64"
            ]
          },
          "metadata": {
            "tags": []
          },
          "execution_count": 7
        }
      ]
    },
    {
      "cell_type": "code",
      "metadata": {
        "id": "tPNNBRvrvA2O",
        "colab_type": "code",
        "outputId": "28cc4863-ee2f-408c-e38f-bb1dfc4156e7",
        "colab": {
          "base_uri": "https://localhost:8080/",
          "height": 34
        }
      },
      "source": [
        "data.price.max(), data.price.min(), data.price.mean()"
      ],
      "execution_count": 0,
      "outputs": [
        {
          "output_type": "execute_result",
          "data": {
            "text/plain": [
              "(214.2, 15.45, 63.38550341776677)"
            ]
          },
          "metadata": {
            "tags": []
          },
          "execution_count": 8
        }
      ]
    },
    {
      "cell_type": "code",
      "metadata": {
        "id": "55Po6Ib2vpUL",
        "colab_type": "code",
        "colab": {}
      },
      "source": [
        "#Change these columns into datetime type.\n",
        "dates = [\"insert_date\",\"start_date\",\"end_date\"]\n",
        "for i in dates:\n",
        "  data[i] = pd.to_datetime(data[i])     "
      ],
      "execution_count": 0,
      "outputs": []
    },
    {
      "cell_type": "code",
      "metadata": {
        "id": "AX3pkBJ7xdUL",
        "colab_type": "code",
        "outputId": "f1a7591e-a282-492e-9457-3ea80a49cf49",
        "colab": {
          "base_uri": "https://localhost:8080/",
          "height": 255
        }
      },
      "source": [
        "data.info()"
      ],
      "execution_count": 0,
      "outputs": [
        {
          "output_type": "stream",
          "text": [
            "<class 'pandas.core.frame.DataFrame'>\n",
            "Int64Index: 2579771 entries, 0 to 2579770\n",
            "Data columns (total 9 columns):\n",
            "insert_date    datetime64[ns]\n",
            "origin         object\n",
            "destination    object\n",
            "start_date     datetime64[ns]\n",
            "end_date       datetime64[ns]\n",
            "train_type     object\n",
            "price          float64\n",
            "train_class    object\n",
            "fare           object\n",
            "dtypes: datetime64[ns](3), float64(1), object(5)\n",
            "memory usage: 196.8+ MB\n"
          ],
          "name": "stdout"
        }
      ]
    },
    {
      "cell_type": "code",
      "metadata": {
        "id": "0op5dPxMzJ-1",
        "colab_type": "code",
        "outputId": "1ece393e-3b12-48f2-e1fa-db7e32aa96e0",
        "colab": {
          "base_uri": "https://localhost:8080/",
          "height": 136
        }
      },
      "source": [
        "data['train_class'].value_counts()"
      ],
      "execution_count": 0,
      "outputs": [
        {
          "output_type": "execute_result",
          "data": {
            "text/plain": [
              "Turista               1950303\n",
              "Preferente             256082\n",
              "Turista Plus           192908\n",
              "Turista con enlace     169549\n",
              "Cama Turista             1051\n",
              "Cama G. Clase             214\n",
              "Name: train_class, dtype: int64"
            ]
          },
          "metadata": {
            "tags": []
          },
          "execution_count": 11
        }
      ]
    },
    {
      "cell_type": "code",
      "metadata": {
        "id": "jMa3gaoQzbEE",
        "colab_type": "code",
        "outputId": "3a6ce023-bf92-457d-d3d8-3ef515fcd32e",
        "colab": {
          "base_uri": "https://localhost:8080/",
          "height": 153
        }
      },
      "source": [
        "data['fare'].value_counts()"
      ],
      "execution_count": 0,
      "outputs": [
        {
          "output_type": "execute_result",
          "data": {
            "text/plain": [
              "Promo                  1733423\n",
              "Flexible                582743\n",
              "Adulto ida              179844\n",
              "Promo +                  73778\n",
              "Individual-Flexible        214\n",
              "Mesa                        99\n",
              "Grupos Ida                   6\n",
              "Name: fare, dtype: int64"
            ]
          },
          "metadata": {
            "tags": []
          },
          "execution_count": 12
        }
      ]
    },
    {
      "cell_type": "code",
      "metadata": {
        "id": "jokVnvAA0dkp",
        "colab_type": "code",
        "colab": {}
      },
      "source": [
        "#Fill the missing value in fare column be the mode value.\n",
        "data['fare'].fillna(data['fare'].mode()[0],inplace=True)"
      ],
      "execution_count": 0,
      "outputs": []
    },
    {
      "cell_type": "code",
      "metadata": {
        "id": "ngP71dZR085q",
        "colab_type": "code",
        "outputId": "aa480ad4-7279-4024-fd5e-e614b6f5b042",
        "colab": {
          "base_uri": "https://localhost:8080/",
          "height": 153
        }
      },
      "source": [
        "data['fare'].value_counts()"
      ],
      "execution_count": 0,
      "outputs": [
        {
          "output_type": "execute_result",
          "data": {
            "text/plain": [
              "Promo                  1743087\n",
              "Flexible                582743\n",
              "Adulto ida              179844\n",
              "Promo +                  73778\n",
              "Individual-Flexible        214\n",
              "Mesa                        99\n",
              "Grupos Ida                   6\n",
              "Name: fare, dtype: int64"
            ]
          },
          "metadata": {
            "tags": []
          },
          "execution_count": 14
        }
      ]
    },
    {
      "cell_type": "code",
      "metadata": {
        "id": "Pe5UsssG70L3",
        "colab_type": "code",
        "outputId": "47ab3cbd-b7a0-45ee-d6c7-31eefb0fb715",
        "colab": {
          "base_uri": "https://localhost:8080/",
          "height": 354
        }
      },
      "source": [
        "fig, ax = plt.subplots(figsize=[20,5])\n",
        "sns.barplot(x=\"fare\", y=\"price\", data=data, ax = ax)"
      ],
      "execution_count": 0,
      "outputs": [
        {
          "output_type": "execute_result",
          "data": {
            "text/plain": [
              "<matplotlib.axes._subplots.AxesSubplot at 0x7fc2b00dae10>"
            ]
          },
          "metadata": {
            "tags": []
          },
          "execution_count": 15
        },
        {
          "output_type": "display_data",
          "data": {
            "image/png": "[encoded data removed]",
            "text/plain": [
              "<Figure size 1440x360 with 1 Axes>"
            ]
          },
          "metadata": {
            "tags": []
          }
        }
      ]
    },
    {
      "cell_type": "markdown",
      "metadata": {
        "id": "TWtEQ4Hid3xP",
        "colab_type": "text"
      },
      "source": [
        "Majority of people are taking Promo fare because of the reasonable price.. "
      ]
    },
    {
      "cell_type": "code",
      "metadata": {
        "id": "bKlTcHri1B6-",
        "colab_type": "code",
        "colab": {}
      },
      "source": [
        "#Fill the train_class missing values with the mode value\n",
        "data['train_class'].fillna(data['train_class'].mode()[0],inplace=True)"
      ],
      "execution_count": 0,
      "outputs": []
    },
    {
      "cell_type": "code",
      "metadata": {
        "id": "VAolWmqb1efI",
        "colab_type": "code",
        "outputId": "eb2e2671-bebe-4fa7-d8fc-8e51809d7332",
        "colab": {
          "base_uri": "https://localhost:8080/",
          "height": 136
        }
      },
      "source": [
        "data['train_class'].value_counts()"
      ],
      "execution_count": 0,
      "outputs": [
        {
          "output_type": "execute_result",
          "data": {
            "text/plain": [
              "Turista               1959967\n",
              "Preferente             256082\n",
              "Turista Plus           192908\n",
              "Turista con enlace     169549\n",
              "Cama Turista             1051\n",
              "Cama G. Clase             214\n",
              "Name: train_class, dtype: int64"
            ]
          },
          "metadata": {
            "tags": []
          },
          "execution_count": 17
        }
      ]
    },
    {
      "cell_type": "code",
      "metadata": {
        "id": "6J4HnB2S1gvB",
        "colab_type": "code",
        "colab": {}
      },
      "source": [
        "#Fill the missing values in price column based on 'fare' column \n",
        "data.loc[data.price.isnull(), 'price'] = data.groupby(['fare']).price.transform('mean')"
      ],
      "execution_count": 0,
      "outputs": []
    },
    {
      "cell_type": "code",
      "metadata": {
        "id": "8_j0qaqPcC3o",
        "colab_type": "code",
        "outputId": "858a2191-8eb1-4a6b-e50c-4025ccbb39c2",
        "colab": {
          "base_uri": "https://localhost:8080/",
          "height": 355
        }
      },
      "source": [
        "fig, ax = plt.subplots(figsize=[20,5])\n",
        "sns.barplot(x=\"train_class\", y=\"price\", data=data, ax = ax)"
      ],
      "execution_count": 0,
      "outputs": [
        {
          "output_type": "execute_result",
          "data": {
            "text/plain": [
              "<matplotlib.axes._subplots.AxesSubplot at 0x7fc2afff3e10>"
            ]
          },
          "metadata": {
            "tags": []
          },
          "execution_count": 19
        },
        {
          "output_type": "display_data",
          "data": {
            "image/png": "[encoded data removed]",
            "text/plain": [
              "<Figure size 1440x360 with 1 Axes>"
            ]
          },
          "metadata": {
            "tags": []
          }
        }
      ]
    },
    {
      "cell_type": "markdown",
      "metadata": {
        "id": "jylrh_e_e-Vi",
        "colab_type": "text"
      },
      "source": [
        "Majority of people travel in Turista class because of the reasonable price."
      ]
    },
    {
      "cell_type": "code",
      "metadata": {
        "id": "itS9dqs81yeM",
        "colab_type": "code",
        "outputId": "878de78f-7bda-4293-a771-d852648a6c20",
        "colab": {
          "base_uri": "https://localhost:8080/",
          "height": 187
        }
      },
      "source": [
        "#Check for the missing values again.\n",
        "data.isnull().sum()"
      ],
      "execution_count": 0,
      "outputs": [
        {
          "output_type": "execute_result",
          "data": {
            "text/plain": [
              "insert_date    0\n",
              "origin         0\n",
              "destination    0\n",
              "start_date     0\n",
              "end_date       0\n",
              "train_type     0\n",
              "price          0\n",
              "train_class    0\n",
              "fare           0\n",
              "dtype: int64"
            ]
          },
          "metadata": {
            "tags": []
          },
          "execution_count": 20
        }
      ]
    },
    {
      "cell_type": "code",
      "metadata": {
        "id": "ocpiDKetcUSB",
        "colab_type": "code",
        "outputId": "f37fa5d5-49d4-441d-9a42-84675381f698",
        "colab": {
          "base_uri": "https://localhost:8080/",
          "height": 119
        }
      },
      "source": [
        "data[\"origin\"].value_counts()\n"
      ],
      "execution_count": 0,
      "outputs": [
        {
          "output_type": "execute_result",
          "data": {
            "text/plain": [
              "MADRID        1359423\n",
              "BARCELONA      405621\n",
              "SEVILLA        398445\n",
              "VALENCIA       323086\n",
              "PONFERRADA      93196\n",
              "Name: origin, dtype: int64"
            ]
          },
          "metadata": {
            "tags": []
          },
          "execution_count": 21
        }
      ]
    },
    {
      "cell_type": "code",
      "metadata": {
        "id": "g84og6GTfepq",
        "colab_type": "code",
        "outputId": "7d43deaf-16a5-4c9f-8206-07d75cb553d8",
        "colab": {
          "base_uri": "https://localhost:8080/",
          "height": 119
        }
      },
      "source": [
        "data[\"destination\"].value_counts()"
      ],
      "execution_count": 0,
      "outputs": [
        {
          "output_type": "execute_result",
          "data": {
            "text/plain": [
              "MADRID        1220348\n",
              "BARCELONA      480074\n",
              "SEVILLA        413155\n",
              "VALENCIA       399679\n",
              "PONFERRADA      66515\n",
              "Name: destination, dtype: int64"
            ]
          },
          "metadata": {
            "tags": []
          },
          "execution_count": 22
        }
      ]
    },
    {
      "cell_type": "code",
      "metadata": {
        "id": "6IwgWRCPk8lk",
        "colab_type": "code",
        "outputId": "c971cccf-167b-4f7c-8a64-321a8236d0c9",
        "colab": {
          "base_uri": "https://localhost:8080/",
          "height": 102
        }
      },
      "source": [
        "data[\"start_date\"].dt.month.value_counts()"
      ],
      "execution_count": 0,
      "outputs": [
        {
          "output_type": "execute_result",
          "data": {
            "text/plain": [
              "5    1850391\n",
              "4     495071\n",
              "6     218707\n",
              "7      15602\n",
              "Name: start_date, dtype: int64"
            ]
          },
          "metadata": {
            "tags": []
          },
          "execution_count": 23
        }
      ]
    },
    {
      "cell_type": "markdown",
      "metadata": {
        "id": "wnKuquNDoNcl",
        "colab_type": "text"
      },
      "source": [
        "So the 5th Month is the busiest month. "
      ]
    },
    {
      "cell_type": "markdown",
      "metadata": {
        "id": "hjMwJmNIvNao",
        "colab_type": "text"
      },
      "source": [
        "Now let's see which are the busiest hour."
      ]
    },
    {
      "cell_type": "code",
      "metadata": {
        "id": "cEeYtrr3ooFi",
        "colab_type": "code",
        "outputId": "eb1224d0-bbdd-42c5-bb5e-f9e68da6da26",
        "colab": {
          "base_uri": "https://localhost:8080/",
          "height": 357
        }
      },
      "source": [
        "data[\"start_date\"].dt.hour.value_counts()"
      ],
      "execution_count": 0,
      "outputs": [
        {
          "output_type": "execute_result",
          "data": {
            "text/plain": [
              "17    199205\n",
              "9     195846\n",
              "16    195051\n",
              "14    189059\n",
              "6     183027\n",
              "7     175759\n",
              "8     172965\n",
              "19    166797\n",
              "12    161145\n",
              "15    158843\n",
              "18    147939\n",
              "11    147447\n",
              "20    127920\n",
              "13    114972\n",
              "21    107072\n",
              "10    102320\n",
              "5      15053\n",
              "22     10017\n",
              "2       9334\n",
              "Name: start_date, dtype: int64"
            ]
          },
          "metadata": {
            "tags": []
          },
          "execution_count": 25
        }
      ]
    },
    {
      "cell_type": "code",
      "metadata": {
        "id": "y97DGzHBm67U",
        "colab_type": "code",
        "colab": {}
      },
      "source": [
        ""
      ],
      "execution_count": 0,
      "outputs": []
    }
  ]
}